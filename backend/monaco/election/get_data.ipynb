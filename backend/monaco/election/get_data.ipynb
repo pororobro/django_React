{
 "cells": [
  {
   "cell_type": "code",
   "execution_count": 10,
   "metadata": {
    "collapsed": true
   },
   "outputs": [],
   "source": [
    "import pandas as pd\n",
    "import numpy as np\n",
    "from selenium import webdriver\n",
    "import time\n",
    "import platform\n",
    "import matplotlib.pyplot as plt\n",
    "import re\n",
    "from selenium.webdriver.common.by import By\n",
    "from selenium.webdriver.support.ui import WebDriverWait\n",
    "from selenium.webdriver.support import expected_conditions as EC\n",
    "from bs4 import BeautifulSoup\n",
    "from selenium import webdriver"
   ]
  },
  {
   "cell_type": "code",
   "execution_count": 11,
   "outputs": [],
   "source": [
    "driver = webdriver.Chrome('C:/Program Files/Google/Chrome/chromedriver')\n",
    "driver.get(\"http://info.nec.go.kr/main/showDocument.xhtml?electionId=0000000000&topMenuId=VC&secondMenuId=VCCP09\")"
   ],
   "metadata": {
    "collapsed": false,
    "pycharm": {
     "name": "#%%\n"
    }
   }
  },
  {
   "cell_type": "code",
   "execution_count": 12,
   "outputs": [],
   "source": [
    "driver.find_element_by_id(\"electionType1\").click()"
   ],
   "metadata": {
    "collapsed": false,
    "pycharm": {
     "name": "#%%\n"
    }
   }
  },
  {
   "cell_type": "code",
   "execution_count": 13,
   "outputs": [],
   "source": [
    "driver.find_element_by_id(\"electionName\").send_keys(\"제19대\")"
   ],
   "metadata": {
    "collapsed": false,
    "pycharm": {
     "name": "#%%\n"
    }
   }
  },
  {
   "cell_type": "code",
   "execution_count": 14,
   "outputs": [],
   "source": [
    "driver.find_element_by_id(\"electionCode\").send_keys(\"대통령선거\")"
   ],
   "metadata": {
    "collapsed": false,
    "pycharm": {
     "name": "#%%\n"
    }
   }
  },
  {
   "cell_type": "code",
   "execution_count": 15,
   "outputs": [
    {
     "data": {
      "text/plain": "['서울특별시',\n '부산광역시',\n '대구광역시',\n '인천광역시',\n '광주광역시',\n '대전광역시',\n '울산광역시',\n '세종특별자치시',\n '경기도',\n '강원도',\n '충청북도',\n '충청남도',\n '전라북도',\n '전라남도',\n '경상북도',\n '경상남도',\n '제주특별자치도']"
     },
     "execution_count": 15,
     "metadata": {},
     "output_type": "execute_result"
    }
   ],
   "source": [
    "sido_list_raw = driver.find_element_by_xpath(\"\"\"//*[@id=\"cityCode\"]\"\"\")\n",
    "sido_list = sido_list_raw.find_elements_by_tag_name(\"option\")\n",
    "sido_names_values = [option.text for option in sido_list]\n",
    "sido_names_values = sido_names_values[2:]\n",
    "sido_names_values"
   ],
   "metadata": {
    "collapsed": false,
    "pycharm": {
     "name": "#%%\n"
    }
   }
  },
  {
   "cell_type": "code",
   "execution_count": 16,
   "outputs": [],
   "source": [
    "def get_num(a):\n",
    "    return float(re.split('\\(', a)[0].replace(',', ''))"
   ],
   "metadata": {
    "collapsed": false,
    "pycharm": {
     "name": "#%%\n"
    }
   }
  },
  {
   "cell_type": "code",
   "execution_count": 17,
   "outputs": [],
   "source": [
    "wait = WebDriverWait(driver, 10)\n",
    "\n",
    "def move_sido(name):\n",
    "    element = driver.find_element_by_id(\"cityCode\")\n",
    "    element.send_keys(name)\n",
    "    make_xpath = \"\"\"//*[@id=\"searchBtn\"]\"\"\"\n",
    "    wait.until(EC.element_to_be_clickable((By.XPATH, make_xpath)))\n",
    "    driver.find_element_by_xpath(make_xpath).click()"
   ],
   "metadata": {
    "collapsed": false,
    "pycharm": {
     "name": "#%%\n"
    }
   }
  },
  {
   "cell_type": "code",
   "execution_count": 18,
   "outputs": [],
   "source": [
    "def append_data(df, sido_name, data):\n",
    "    for each in df[0].values[1:]:\n",
    "        data['광역시도'].append(sido_name)\n",
    "        data['시군'].append(each[0])\n",
    "        data['pop'].append((each[2]))\n",
    "        data['moon'].append(get_num(each[3]))\n",
    "        data['hong'].append(get_num(each[4]))\n",
    "        data['ahn'].append(get_num(each[5]))"
   ],
   "metadata": {
    "collapsed": false,
    "pycharm": {
     "name": "#%%\n"
    }
   }
  },
  {
   "cell_type": "code",
   "execution_count": 19,
   "outputs": [],
   "source": [
    "election_result_raw = {'광역시도' : [],\n",
    "                       '시군' : [],\n",
    "                       'pop' : [],\n",
    "                       'moon' : [],\n",
    "                       'hong' : [],\n",
    "                       'ahn' : [] }"
   ],
   "metadata": {
    "collapsed": false,
    "pycharm": {
     "name": "#%%\n"
    }
   }
  },
  {
   "cell_type": "code",
   "execution_count": 20,
   "outputs": [],
   "source": [
    "for each_sido in sido_names_values:\n",
    "    move_sido(each_sido)\n",
    "\n",
    "    html = driver.page_source\n",
    "    soup = BeautifulSoup(html, 'html.parser')\n",
    "    table = soup.find('table')\n",
    "\n",
    "    df = pd.read_html(str(table))\n",
    "\n",
    "    append_data(df, each_sido, election_result_raw)"
   ],
   "metadata": {
    "collapsed": false,
    "pycharm": {
     "name": "#%%\n"
    }
   }
  },
  {
   "cell_type": "code",
   "execution_count": 21,
   "outputs": [
    {
     "data": {
      "text/plain": "        광역시도   시군     pop      moon     hong      ahn\n0      서울특별시  종로구  102566   42512.0  22325.0  22313.0\n1      서울특별시   중구   82852   34062.0  17901.0  19372.0\n2      서울특별시  용산구  148157   58081.0  35230.0  32109.0\n3      서울특별시  성동구  203175   86686.0  40566.0  45674.0\n4      서울특별시  광진구  240030  105512.0  46368.0  52824.0\n..       ...  ...     ...       ...      ...      ...\n420  제주특별자치도  관악구  351240  159854.0  59914.0  79495.0\n421  제주특별자치도  서초구  292916  106416.0  74891.0  63977.0\n422  제주특별자치도  강남구  365642  128927.0  97639.0  80201.0\n423  제주특별자치도  송파구  441198  177328.0  98549.0  99018.0\n424  제주특별자치도  강동구  297476  122511.0  65893.0  67499.0\n\n[425 rows x 6 columns]",
      "text/html": "<div>\n<style scoped>\n    .dataframe tbody tr th:only-of-type {\n        vertical-align: middle;\n    }\n\n    .dataframe tbody tr th {\n        vertical-align: top;\n    }\n\n    .dataframe thead th {\n        text-align: right;\n    }\n</style>\n<table border=\"1\" class=\"dataframe\">\n  <thead>\n    <tr style=\"text-align: right;\">\n      <th></th>\n      <th>광역시도</th>\n      <th>시군</th>\n      <th>pop</th>\n      <th>moon</th>\n      <th>hong</th>\n      <th>ahn</th>\n    </tr>\n  </thead>\n  <tbody>\n    <tr>\n      <th>0</th>\n      <td>서울특별시</td>\n      <td>종로구</td>\n      <td>102566</td>\n      <td>42512.0</td>\n      <td>22325.0</td>\n      <td>22313.0</td>\n    </tr>\n    <tr>\n      <th>1</th>\n      <td>서울특별시</td>\n      <td>중구</td>\n      <td>82852</td>\n      <td>34062.0</td>\n      <td>17901.0</td>\n      <td>19372.0</td>\n    </tr>\n    <tr>\n      <th>2</th>\n      <td>서울특별시</td>\n      <td>용산구</td>\n      <td>148157</td>\n      <td>58081.0</td>\n      <td>35230.0</td>\n      <td>32109.0</td>\n    </tr>\n    <tr>\n      <th>3</th>\n      <td>서울특별시</td>\n      <td>성동구</td>\n      <td>203175</td>\n      <td>86686.0</td>\n      <td>40566.0</td>\n      <td>45674.0</td>\n    </tr>\n    <tr>\n      <th>4</th>\n      <td>서울특별시</td>\n      <td>광진구</td>\n      <td>240030</td>\n      <td>105512.0</td>\n      <td>46368.0</td>\n      <td>52824.0</td>\n    </tr>\n    <tr>\n      <th>...</th>\n      <td>...</td>\n      <td>...</td>\n      <td>...</td>\n      <td>...</td>\n      <td>...</td>\n      <td>...</td>\n    </tr>\n    <tr>\n      <th>420</th>\n      <td>제주특별자치도</td>\n      <td>관악구</td>\n      <td>351240</td>\n      <td>159854.0</td>\n      <td>59914.0</td>\n      <td>79495.0</td>\n    </tr>\n    <tr>\n      <th>421</th>\n      <td>제주특별자치도</td>\n      <td>서초구</td>\n      <td>292916</td>\n      <td>106416.0</td>\n      <td>74891.0</td>\n      <td>63977.0</td>\n    </tr>\n    <tr>\n      <th>422</th>\n      <td>제주특별자치도</td>\n      <td>강남구</td>\n      <td>365642</td>\n      <td>128927.0</td>\n      <td>97639.0</td>\n      <td>80201.0</td>\n    </tr>\n    <tr>\n      <th>423</th>\n      <td>제주특별자치도</td>\n      <td>송파구</td>\n      <td>441198</td>\n      <td>177328.0</td>\n      <td>98549.0</td>\n      <td>99018.0</td>\n    </tr>\n    <tr>\n      <th>424</th>\n      <td>제주특별자치도</td>\n      <td>강동구</td>\n      <td>297476</td>\n      <td>122511.0</td>\n      <td>65893.0</td>\n      <td>67499.0</td>\n    </tr>\n  </tbody>\n</table>\n<p>425 rows × 6 columns</p>\n</div>"
     },
     "execution_count": 21,
     "metadata": {},
     "output_type": "execute_result"
    }
   ],
   "source": [
    "election_result = pd.DataFrame(election_result_raw,\n",
    "                               columns=['광역시도', '시군', 'pop', 'moon','hong','ahn'])\n",
    "election_result"
   ],
   "metadata": {
    "collapsed": false,
    "pycharm": {
     "name": "#%%\n"
    }
   }
  },
  {
   "cell_type": "code",
   "execution_count": 22,
   "outputs": [],
   "source": [
    "election_result.to_csv('./data_saved/05. election_result.csv', encoding='utf-8', sep=',')"
   ],
   "metadata": {
    "collapsed": false,
    "pycharm": {
     "name": "#%%\n"
    }
   }
  },
  {
   "cell_type": "code",
   "execution_count": 23,
   "outputs": [],
   "source": [
    "driver.close()"
   ],
   "metadata": {
    "collapsed": false,
    "pycharm": {
     "name": "#%%\n"
    }
   }
  },
  {
   "cell_type": "code",
   "execution_count": 24,
   "outputs": [
    {
     "data": {
      "text/plain": "    광역시도   시군     pop      moon     hong      ahn\n0  서울특별시  종로구  102566   42512.0  22325.0  22313.0\n1  서울특별시   중구   82852   34062.0  17901.0  19372.0\n2  서울특별시  용산구  148157   58081.0  35230.0  32109.0\n3  서울특별시  성동구  203175   86686.0  40566.0  45674.0\n4  서울특별시  광진구  240030  105512.0  46368.0  52824.0",
      "text/html": "<div>\n<style scoped>\n    .dataframe tbody tr th:only-of-type {\n        vertical-align: middle;\n    }\n\n    .dataframe tbody tr th {\n        vertical-align: top;\n    }\n\n    .dataframe thead th {\n        text-align: right;\n    }\n</style>\n<table border=\"1\" class=\"dataframe\">\n  <thead>\n    <tr style=\"text-align: right;\">\n      <th></th>\n      <th>광역시도</th>\n      <th>시군</th>\n      <th>pop</th>\n      <th>moon</th>\n      <th>hong</th>\n      <th>ahn</th>\n    </tr>\n  </thead>\n  <tbody>\n    <tr>\n      <th>0</th>\n      <td>서울특별시</td>\n      <td>종로구</td>\n      <td>102566</td>\n      <td>42512.0</td>\n      <td>22325.0</td>\n      <td>22313.0</td>\n    </tr>\n    <tr>\n      <th>1</th>\n      <td>서울특별시</td>\n      <td>중구</td>\n      <td>82852</td>\n      <td>34062.0</td>\n      <td>17901.0</td>\n      <td>19372.0</td>\n    </tr>\n    <tr>\n      <th>2</th>\n      <td>서울특별시</td>\n      <td>용산구</td>\n      <td>148157</td>\n      <td>58081.0</td>\n      <td>35230.0</td>\n      <td>32109.0</td>\n    </tr>\n    <tr>\n      <th>3</th>\n      <td>서울특별시</td>\n      <td>성동구</td>\n      <td>203175</td>\n      <td>86686.0</td>\n      <td>40566.0</td>\n      <td>45674.0</td>\n    </tr>\n    <tr>\n      <th>4</th>\n      <td>서울특별시</td>\n      <td>광진구</td>\n      <td>240030</td>\n      <td>105512.0</td>\n      <td>46368.0</td>\n      <td>52824.0</td>\n    </tr>\n  </tbody>\n</table>\n</div>"
     },
     "execution_count": 24,
     "metadata": {},
     "output_type": "execute_result"
    }
   ],
   "source": [
    "election_result = pd.read_csv('./data_saved/05. election_result.csv', encoding='utf-8',\n",
    "                              index_col=0)\n",
    "election_result.head()"
   ],
   "metadata": {
    "collapsed": false,
    "pycharm": {
     "name": "#%%\n"
    }
   }
  },
  {
   "cell_type": "code",
   "execution_count": 25,
   "outputs": [],
   "source": [
    "sido_candi =  election_result['광역시도']\n",
    "sido_candi = [name[:2] if name[:2]\n",
    "                                          in ['서울','부산','대구','광주','인천','대전','울산']\n",
    "                                    else '' for name in sido_candi]"
   ],
   "metadata": {
    "collapsed": false,
    "pycharm": {
     "name": "#%%\n"
    }
   }
  },
  {
   "cell_type": "code",
   "execution_count": 26,
   "outputs": [],
   "source": [
    "def cut_char_sigu(name):\n",
    "    return name if len(name)==2 else name[:-1]"
   ],
   "metadata": {
    "collapsed": false,
    "pycharm": {
     "name": "#%%\n"
    }
   }
  },
  {
   "cell_type": "code",
   "execution_count": 27,
   "outputs": [
    {
     "data": {
      "text/plain": "['종로',\n '중구',\n '용산',\n '성동',\n '광진',\n '동대문',\n '중랑',\n '성북',\n '강북',\n '도봉',\n '노원',\n '은평',\n '서대문',\n '마포',\n '양천',\n '강서',\n '구로',\n '금천',\n '영등포',\n '동작',\n '관악',\n '서초',\n '강남',\n '송파',\n '강동',\n '종로',\n '중구',\n '용산',\n '성동',\n '광진',\n '동대문',\n '중랑',\n '성북',\n '강북',\n '도봉',\n '노원',\n '은평',\n '서대문',\n '마포',\n '양천',\n '강서',\n '구로',\n '금천',\n '영등포',\n '동작',\n '관악',\n '서초',\n '강남',\n '송파',\n '강동',\n '종로',\n '중구',\n '용산',\n '성동',\n '광진',\n '동대문',\n '중랑',\n '성북',\n '강북',\n '도봉',\n '노원',\n '은평',\n '서대문',\n '마포',\n '양천',\n '강서',\n '구로',\n '금천',\n '영등포',\n '동작',\n '관악',\n '서초',\n '강남',\n '송파',\n '강동',\n '종로',\n '중구',\n '용산',\n '성동',\n '광진',\n '동대문',\n '중랑',\n '성북',\n '강북',\n '도봉',\n '노원',\n '은평',\n '서대문',\n '마포',\n '양천',\n '강서',\n '구로',\n '금천',\n '영등포',\n '동작',\n '관악',\n '서초',\n '강남',\n '송파',\n '강동',\n '종로',\n '중구',\n '용산',\n '성동',\n '광진',\n '동대문',\n '중랑',\n '성북',\n '강북',\n '도봉',\n '노원',\n '은평',\n '서대문',\n '마포',\n '양천',\n '강서',\n '구로',\n '금천',\n '영등포',\n '동작',\n '관악',\n '서초',\n '강남',\n '송파',\n '강동',\n '종로',\n '중구',\n '용산',\n '성동',\n '광진',\n '동대문',\n '중랑',\n '성북',\n '강북',\n '도봉',\n '노원',\n '은평',\n '서대문',\n '마포',\n '양천',\n '강서',\n '구로',\n '금천',\n '영등포',\n '동작',\n '관악',\n '서초',\n '강남',\n '송파',\n '강동',\n '종로',\n '중구',\n '용산',\n '성동',\n '광진',\n '동대문',\n '중랑',\n '성북',\n '강북',\n '도봉',\n '노원',\n '은평',\n '서대문',\n '마포',\n '양천',\n '강서',\n '구로',\n '금천',\n '영등포',\n '동작',\n '관악',\n '서초',\n '강남',\n '송파',\n '강동',\n '종로',\n '중구',\n '용산',\n '성동',\n '광진',\n '동대문',\n '중랑',\n '성북',\n '강북',\n '도봉',\n '노원',\n '은평',\n '서대문',\n '마포',\n '양천',\n '강서',\n '구로',\n '금천',\n '영등포',\n '동작',\n '관악',\n '서초',\n '강남',\n '송파',\n '강동',\n '종로',\n '중구',\n '용산',\n '성동',\n '광진',\n '동대문',\n '중랑',\n '성북',\n '강북',\n '도봉',\n '노원',\n '은평',\n '서대문',\n '마포',\n '양천',\n '강서',\n '구로',\n '금천',\n '영등포',\n '동작',\n '관악',\n '서초',\n '강남',\n '송파',\n '강동',\n '종로',\n '중구',\n '용산',\n '성동',\n '광진',\n '동대문',\n '중랑',\n '성북',\n '강북',\n '도봉',\n '노원',\n '은평',\n '서대문',\n '마포',\n '양천',\n '강서',\n '구로',\n '금천',\n '영등포',\n '동작',\n '관악',\n '서초',\n '강남',\n '송파',\n '강동',\n '종로',\n '중구',\n '용산',\n '성동',\n '광진',\n '동대문',\n '중랑',\n '성북',\n '강북',\n '도봉',\n '노원',\n '은평',\n '서대문',\n '마포',\n '양천',\n '강서',\n '구로',\n '금천',\n '영등포',\n '동작',\n '관악',\n '서초',\n '강남',\n '송파',\n '강동',\n '종로',\n '중구',\n '용산',\n '성동',\n '광진',\n '동대문',\n '중랑',\n '성북',\n '강북',\n '도봉',\n '노원',\n '은평',\n '서대문',\n '마포',\n '양천',\n '강서',\n '구로',\n '금천',\n '영등포',\n '동작',\n '관악',\n '서초',\n '강남',\n '송파',\n '강동',\n '종로',\n '중구',\n '용산',\n '성동',\n '광진',\n '동대문',\n '중랑',\n '성북',\n '강북',\n '도봉',\n '노원',\n '은평',\n '서대문',\n '마포',\n '양천',\n '강서',\n '구로',\n '금천',\n '영등포',\n '동작',\n '관악',\n '서초',\n '강남',\n '송파',\n '강동',\n '종로',\n '중구',\n '용산',\n '성동',\n '광진',\n '동대문',\n '중랑',\n '성북',\n '강북',\n '도봉',\n '노원',\n '은평',\n '서대문',\n '마포',\n '양천',\n '강서',\n '구로',\n '금천',\n '영등포',\n '동작',\n '관악',\n '서초',\n '강남',\n '송파',\n '강동',\n '종로',\n '중구',\n '용산',\n '성동',\n '광진',\n '동대문',\n '중랑',\n '성북',\n '강북',\n '도봉',\n '노원',\n '은평',\n '서대문',\n '마포',\n '양천',\n '강서',\n '구로',\n '금천',\n '영등포',\n '동작',\n '관악',\n '서초',\n '강남',\n '송파',\n '강동',\n '종로',\n '중구',\n '용산',\n '성동',\n '광진',\n '동대문',\n '중랑',\n '성북',\n '강북',\n '도봉',\n '노원',\n '은평',\n '서대문',\n '마포',\n '양천',\n '강서',\n '구로',\n '금천',\n '영등포',\n '동작',\n '관악',\n '서초',\n '강남',\n '송파',\n '강동',\n '종로',\n '중구',\n '용산',\n '성동',\n '광진',\n '동대문',\n '중랑',\n '성북',\n '강북',\n '도봉',\n '노원',\n '은평',\n '서대문',\n '마포',\n '양천',\n '강서',\n '구로',\n '금천',\n '영등포',\n '동작',\n '관악',\n '서초',\n '강남',\n '송파',\n '강동']"
     },
     "execution_count": 27,
     "metadata": {},
     "output_type": "execute_result"
    }
   ],
   "source": [
    "sigun_candi = ['']*len(election_result)\n",
    "\n",
    "for n in election_result.index:\n",
    "    each = election_result['시군'][n]\n",
    "    if each[:2] in ['수원', '성남','안양','안산','고양',\n",
    "                            '용인','청주','천안','전주','포항','창원']:\n",
    "        sigun_candi[n] = re.split('시', each)[0]+' '+ \\\n",
    "                                                        cut_char_sigu(re.split('시', each)[1])\n",
    "    else:\n",
    "        sigun_candi[n] = cut_char_sigu(each)\n",
    "\n",
    "sigun_candi\n"
   ],
   "metadata": {
    "collapsed": false,
    "pycharm": {
     "name": "#%%\n"
    }
   }
  },
  {
   "cell_type": "code",
   "execution_count": 28,
   "outputs": [
    {
     "data": {
      "text/plain": "['서울 종로',\n '서울 중구',\n '서울 용산',\n '서울 성동',\n '서울 광진',\n '서울 동대문',\n '서울 중랑',\n '서울 성북',\n '서울 강북',\n '서울 도봉',\n '서울 노원',\n '서울 은평',\n '서울 서대문',\n '서울 마포',\n '서울 양천',\n '서울 강서',\n '서울 구로',\n '서울 금천',\n '서울 영등포',\n '서울 동작',\n '서울 관악',\n '서울 서초',\n '서울 강남',\n '서울 송파',\n '서울 강동',\n '부산 종로',\n '부산 중구',\n '부산 용산',\n '부산 성동',\n '부산 광진',\n '부산 동대문',\n '부산 중랑',\n '부산 성북',\n '부산 강북',\n '부산 도봉',\n '부산 노원',\n '부산 은평',\n '부산 서대문',\n '부산 마포',\n '부산 양천',\n '부산 강서',\n '부산 구로',\n '부산 금천',\n '부산 영등포',\n '부산 동작',\n '부산 관악',\n '부산 서초',\n '부산 강남',\n '부산 송파',\n '부산 강동',\n '대구 종로',\n '대구 중구',\n '대구 용산',\n '대구 성동',\n '대구 광진',\n '대구 동대문',\n '대구 중랑',\n '대구 성북',\n '대구 강북',\n '대구 도봉',\n '대구 노원',\n '대구 은평',\n '대구 서대문',\n '대구 마포',\n '대구 양천',\n '대구 강서',\n '대구 구로',\n '대구 금천',\n '대구 영등포',\n '대구 동작',\n '대구 관악',\n '대구 서초',\n '대구 강남',\n '대구 송파',\n '대구 강동',\n '인천 종로',\n '인천 중구',\n '인천 용산',\n '인천 성동',\n '인천 광진',\n '인천 동대문',\n '인천 중랑',\n '인천 성북',\n '인천 강북',\n '인천 도봉',\n '인천 노원',\n '인천 은평',\n '인천 서대문',\n '인천 마포',\n '인천 양천',\n '인천 강서',\n '인천 구로',\n '인천 금천',\n '인천 영등포',\n '인천 동작',\n '인천 관악',\n '인천 서초',\n '인천 강남',\n '인천 송파',\n '인천 강동',\n '광주 종로',\n '광주 중구',\n '광주 용산',\n '광주 성동',\n '광주 광진',\n '광주 동대문',\n '광주 중랑',\n '광주 성북',\n '광주 강북',\n '광주 도봉',\n '광주 노원',\n '광주 은평',\n '광주 서대문',\n '광주 마포',\n '광주 양천',\n '광주 강서',\n '광주 구로',\n '광주 금천',\n '광주 영등포',\n '광주 동작',\n '광주 관악',\n '광주 서초',\n '광주 강남',\n '광주 송파',\n '광주 강동',\n '대전 종로',\n '대전 중구',\n '대전 용산',\n '대전 성동',\n '대전 광진',\n '대전 동대문',\n '대전 중랑',\n '대전 성북',\n '대전 강북',\n '대전 도봉',\n '대전 노원',\n '대전 은평',\n '대전 서대문',\n '대전 마포',\n '대전 양천',\n '대전 강서',\n '대전 구로',\n '대전 금천',\n '대전 영등포',\n '대전 동작',\n '대전 관악',\n '대전 서초',\n '대전 강남',\n '대전 송파',\n '대전 강동',\n '울산 종로',\n '울산 중구',\n '울산 용산',\n '울산 성동',\n '울산 광진',\n '울산 동대문',\n '울산 중랑',\n '울산 성북',\n '울산 강북',\n '울산 도봉',\n '울산 노원',\n '울산 은평',\n '울산 서대문',\n '울산 마포',\n '울산 양천',\n '울산 강서',\n '울산 구로',\n '울산 금천',\n '울산 영등포',\n '울산 동작',\n '울산 관악',\n '울산 서초',\n '울산 강남',\n '울산 송파',\n '울산 강동',\n '종로',\n '중구',\n '용산',\n '성동',\n '광진',\n '동대문',\n '중랑',\n '성북',\n '강북',\n '도봉',\n '노원',\n '은평',\n '서대문',\n '마포',\n '양천',\n '강서',\n '구로',\n '금천',\n '영등포',\n '동작',\n '관악',\n '서초',\n '강남',\n '송파',\n '강동',\n '종로',\n '중구',\n '용산',\n '성동',\n '광진',\n '동대문',\n '중랑',\n '성북',\n '강북',\n '도봉',\n '노원',\n '은평',\n '서대문',\n '마포',\n '양천',\n '강서',\n '구로',\n '금천',\n '영등포',\n '동작',\n '관악',\n '서초',\n '강남',\n '송파',\n '강동',\n '종로',\n '중구',\n '용산',\n '성동',\n '광진',\n '동대문',\n '중랑',\n '성북',\n '강북',\n '도봉',\n '노원',\n '은평',\n '서대문',\n '마포',\n '양천',\n '강서',\n '구로',\n '금천',\n '영등포',\n '동작',\n '관악',\n '서초',\n '강남',\n '송파',\n '강동',\n '종로',\n '중구',\n '용산',\n '성동',\n '광진',\n '동대문',\n '중랑',\n '성북',\n '강북',\n '도봉',\n '노원',\n '은평',\n '서대문',\n '마포',\n '양천',\n '강서',\n '구로',\n '금천',\n '영등포',\n '동작',\n '관악',\n '서초',\n '강남',\n '송파',\n '강동',\n '종로',\n '중구',\n '용산',\n '성동',\n '광진',\n '동대문',\n '중랑',\n '성북',\n '강북',\n '도봉',\n '노원',\n '은평',\n '서대문',\n '마포',\n '양천',\n '강서',\n '구로',\n '금천',\n '영등포',\n '동작',\n '관악',\n '서초',\n '강남',\n '송파',\n '강동',\n '종로',\n '중구',\n '용산',\n '성동',\n '광진',\n '동대문',\n '중랑',\n '성북',\n '강북',\n '도봉',\n '노원',\n '은평',\n '서대문',\n '마포',\n '양천',\n '강서',\n '구로',\n '금천',\n '영등포',\n '동작',\n '관악',\n '서초',\n '강남',\n '송파',\n '강동',\n '종로',\n '중구',\n '용산',\n '성동',\n '광진',\n '동대문',\n '중랑',\n '성북',\n '강북',\n '도봉',\n '노원',\n '은평',\n '서대문',\n '마포',\n '양천',\n '강서',\n '구로',\n '금천',\n '영등포',\n '동작',\n '관악',\n '서초',\n '강남',\n '송파',\n '강동',\n '종로',\n '중구',\n '용산',\n '성동',\n '광진',\n '동대문',\n '중랑',\n '성북',\n '강북',\n '도봉',\n '노원',\n '은평',\n '서대문',\n '마포',\n '양천',\n '강서',\n '구로',\n '금천',\n '영등포',\n '동작',\n '관악',\n '서초',\n '강남',\n '송파',\n '강동',\n '종로',\n '중구',\n '용산',\n '성동',\n '광진',\n '동대문',\n '중랑',\n '성북',\n '강북',\n '도봉',\n '노원',\n '은평',\n '서대문',\n '마포',\n '양천',\n '강서',\n '구로',\n '금천',\n '영등포',\n '동작',\n '관악',\n '서초',\n '강남',\n '송파',\n '강동',\n '종로',\n '중구',\n '용산',\n '성동',\n '광진',\n '동대문',\n '중랑',\n '성북',\n '강북',\n '도봉',\n '노원',\n '은평',\n '서대문',\n '마포',\n '양천',\n '강서',\n '구로',\n '금천',\n '영등포',\n '동작',\n '관악',\n '서초',\n '강남',\n '송파',\n '강동']"
     },
     "execution_count": 28,
     "metadata": {},
     "output_type": "execute_result"
    }
   ],
   "source": [
    "ID_candi = [sido_candi[n]+' '+sigun_candi[n] for n in range(0,len(sigun_candi))]\n",
    "\n",
    "ID_candi = [name[1:] if name[0]==' ' else name for name in ID_candi]\n",
    "ID_candi = [name[:2] if name[:2]=='세종' else name for name in ID_candi]\n",
    "\n",
    "ID_candi"
   ],
   "metadata": {
    "collapsed": false,
    "pycharm": {
     "name": "#%%\n"
    }
   }
  },
  {
   "cell_type": "code",
   "execution_count": 29,
   "outputs": [
    {
     "data": {
      "text/plain": "    광역시도    시군     pop      moon     hong      ahn      ID\n0  서울특별시   종로구  102566   42512.0  22325.0  22313.0   서울 종로\n1  서울특별시    중구   82852   34062.0  17901.0  19372.0   서울 중구\n2  서울특별시   용산구  148157   58081.0  35230.0  32109.0   서울 용산\n3  서울특별시   성동구  203175   86686.0  40566.0  45674.0   서울 성동\n4  서울특별시   광진구  240030  105512.0  46368.0  52824.0   서울 광진\n5  서울특별시  동대문구  236092   98958.0  51631.0  53359.0  서울 동대문\n6  서울특별시   중랑구  265706  111450.0  56545.0  62778.0   서울 중랑\n7  서울특별시   성북구  295866  129263.0  57584.0  66518.0   서울 성북\n8  서울특별시   강북구  210614   89645.0  42268.0  51669.0   서울 강북\n9  서울특별시   도봉구  229233   94898.0  47461.0  55600.0   서울 도봉",
      "text/html": "<div>\n<style scoped>\n    .dataframe tbody tr th:only-of-type {\n        vertical-align: middle;\n    }\n\n    .dataframe tbody tr th {\n        vertical-align: top;\n    }\n\n    .dataframe thead th {\n        text-align: right;\n    }\n</style>\n<table border=\"1\" class=\"dataframe\">\n  <thead>\n    <tr style=\"text-align: right;\">\n      <th></th>\n      <th>광역시도</th>\n      <th>시군</th>\n      <th>pop</th>\n      <th>moon</th>\n      <th>hong</th>\n      <th>ahn</th>\n      <th>ID</th>\n    </tr>\n  </thead>\n  <tbody>\n    <tr>\n      <th>0</th>\n      <td>서울특별시</td>\n      <td>종로구</td>\n      <td>102566</td>\n      <td>42512.0</td>\n      <td>22325.0</td>\n      <td>22313.0</td>\n      <td>서울 종로</td>\n    </tr>\n    <tr>\n      <th>1</th>\n      <td>서울특별시</td>\n      <td>중구</td>\n      <td>82852</td>\n      <td>34062.0</td>\n      <td>17901.0</td>\n      <td>19372.0</td>\n      <td>서울 중구</td>\n    </tr>\n    <tr>\n      <th>2</th>\n      <td>서울특별시</td>\n      <td>용산구</td>\n      <td>148157</td>\n      <td>58081.0</td>\n      <td>35230.0</td>\n      <td>32109.0</td>\n      <td>서울 용산</td>\n    </tr>\n    <tr>\n      <th>3</th>\n      <td>서울특별시</td>\n      <td>성동구</td>\n      <td>203175</td>\n      <td>86686.0</td>\n      <td>40566.0</td>\n      <td>45674.0</td>\n      <td>서울 성동</td>\n    </tr>\n    <tr>\n      <th>4</th>\n      <td>서울특별시</td>\n      <td>광진구</td>\n      <td>240030</td>\n      <td>105512.0</td>\n      <td>46368.0</td>\n      <td>52824.0</td>\n      <td>서울 광진</td>\n    </tr>\n    <tr>\n      <th>5</th>\n      <td>서울특별시</td>\n      <td>동대문구</td>\n      <td>236092</td>\n      <td>98958.0</td>\n      <td>51631.0</td>\n      <td>53359.0</td>\n      <td>서울 동대문</td>\n    </tr>\n    <tr>\n      <th>6</th>\n      <td>서울특별시</td>\n      <td>중랑구</td>\n      <td>265706</td>\n      <td>111450.0</td>\n      <td>56545.0</td>\n      <td>62778.0</td>\n      <td>서울 중랑</td>\n    </tr>\n    <tr>\n      <th>7</th>\n      <td>서울특별시</td>\n      <td>성북구</td>\n      <td>295866</td>\n      <td>129263.0</td>\n      <td>57584.0</td>\n      <td>66518.0</td>\n      <td>서울 성북</td>\n    </tr>\n    <tr>\n      <th>8</th>\n      <td>서울특별시</td>\n      <td>강북구</td>\n      <td>210614</td>\n      <td>89645.0</td>\n      <td>42268.0</td>\n      <td>51669.0</td>\n      <td>서울 강북</td>\n    </tr>\n    <tr>\n      <th>9</th>\n      <td>서울특별시</td>\n      <td>도봉구</td>\n      <td>229233</td>\n      <td>94898.0</td>\n      <td>47461.0</td>\n      <td>55600.0</td>\n      <td>서울 도봉</td>\n    </tr>\n  </tbody>\n</table>\n</div>"
     },
     "execution_count": 29,
     "metadata": {},
     "output_type": "execute_result"
    }
   ],
   "source": [
    "election_result['ID'] = ID_candi\n",
    "election_result.head(10)"
   ],
   "metadata": {
    "collapsed": false,
    "pycharm": {
     "name": "#%%\n"
    }
   }
  },
  {
   "cell_type": "code",
   "execution_count": 30,
   "outputs": [
    {
     "data": {
      "text/plain": "    광역시도   시군     pop      moon     hong      ahn     ID  rate_moon  \\\n0  서울특별시  종로구  102566   42512.0  22325.0  22313.0  서울 종로  41.448433   \n1  서울특별시   중구   82852   34062.0  17901.0  19372.0  서울 중구  41.111862   \n2  서울특별시  용산구  148157   58081.0  35230.0  32109.0  서울 용산  39.202333   \n3  서울특별시  성동구  203175   86686.0  40566.0  45674.0  서울 성동  42.665682   \n4  서울특별시  광진구  240030  105512.0  46368.0  52824.0  서울 광진  43.957839   \n\n   rate_hong   rate_ahn  \n0  21.766472  21.754773  \n1  21.605996  23.381451  \n2  23.778829  21.672280  \n3  19.966039  22.480128  \n4  19.317585  22.007249  ",
      "text/html": "<div>\n<style scoped>\n    .dataframe tbody tr th:only-of-type {\n        vertical-align: middle;\n    }\n\n    .dataframe tbody tr th {\n        vertical-align: top;\n    }\n\n    .dataframe thead th {\n        text-align: right;\n    }\n</style>\n<table border=\"1\" class=\"dataframe\">\n  <thead>\n    <tr style=\"text-align: right;\">\n      <th></th>\n      <th>광역시도</th>\n      <th>시군</th>\n      <th>pop</th>\n      <th>moon</th>\n      <th>hong</th>\n      <th>ahn</th>\n      <th>ID</th>\n      <th>rate_moon</th>\n      <th>rate_hong</th>\n      <th>rate_ahn</th>\n    </tr>\n  </thead>\n  <tbody>\n    <tr>\n      <th>0</th>\n      <td>서울특별시</td>\n      <td>종로구</td>\n      <td>102566</td>\n      <td>42512.0</td>\n      <td>22325.0</td>\n      <td>22313.0</td>\n      <td>서울 종로</td>\n      <td>41.448433</td>\n      <td>21.766472</td>\n      <td>21.754773</td>\n    </tr>\n    <tr>\n      <th>1</th>\n      <td>서울특별시</td>\n      <td>중구</td>\n      <td>82852</td>\n      <td>34062.0</td>\n      <td>17901.0</td>\n      <td>19372.0</td>\n      <td>서울 중구</td>\n      <td>41.111862</td>\n      <td>21.605996</td>\n      <td>23.381451</td>\n    </tr>\n    <tr>\n      <th>2</th>\n      <td>서울특별시</td>\n      <td>용산구</td>\n      <td>148157</td>\n      <td>58081.0</td>\n      <td>35230.0</td>\n      <td>32109.0</td>\n      <td>서울 용산</td>\n      <td>39.202333</td>\n      <td>23.778829</td>\n      <td>21.672280</td>\n    </tr>\n    <tr>\n      <th>3</th>\n      <td>서울특별시</td>\n      <td>성동구</td>\n      <td>203175</td>\n      <td>86686.0</td>\n      <td>40566.0</td>\n      <td>45674.0</td>\n      <td>서울 성동</td>\n      <td>42.665682</td>\n      <td>19.966039</td>\n      <td>22.480128</td>\n    </tr>\n    <tr>\n      <th>4</th>\n      <td>서울특별시</td>\n      <td>광진구</td>\n      <td>240030</td>\n      <td>105512.0</td>\n      <td>46368.0</td>\n      <td>52824.0</td>\n      <td>서울 광진</td>\n      <td>43.957839</td>\n      <td>19.317585</td>\n      <td>22.007249</td>\n    </tr>\n  </tbody>\n</table>\n</div>"
     },
     "execution_count": 30,
     "metadata": {},
     "output_type": "execute_result"
    }
   ],
   "source": [
    "election_result[['rate_moon','rate_hong','rate_ahn']] = \\\n",
    "            election_result[['moon','hong','ahn']].div(election_result['pop'],  axis=0)\n",
    "election_result[['rate_moon','rate_hong','rate_ahn']] *= 100\n",
    "election_result.head()"
   ],
   "metadata": {
    "collapsed": false,
    "pycharm": {
     "name": "#%%\n"
    }
   }
  },
  {
   "cell_type": "code",
   "execution_count": 31,
   "outputs": [
    {
     "data": {
      "text/plain": "   y   x      ID\n0  0   7      철원\n1  0   8      화천\n2  0   9      양구\n3  0  10  고성(강원)\n4  1   3      양주",
      "text/html": "<div>\n<style scoped>\n    .dataframe tbody tr th:only-of-type {\n        vertical-align: middle;\n    }\n\n    .dataframe tbody tr th {\n        vertical-align: top;\n    }\n\n    .dataframe thead th {\n        text-align: right;\n    }\n</style>\n<table border=\"1\" class=\"dataframe\">\n  <thead>\n    <tr style=\"text-align: right;\">\n      <th></th>\n      <th>y</th>\n      <th>x</th>\n      <th>ID</th>\n    </tr>\n  </thead>\n  <tbody>\n    <tr>\n      <th>0</th>\n      <td>0</td>\n      <td>7</td>\n      <td>철원</td>\n    </tr>\n    <tr>\n      <th>1</th>\n      <td>0</td>\n      <td>8</td>\n      <td>화천</td>\n    </tr>\n    <tr>\n      <th>2</th>\n      <td>0</td>\n      <td>9</td>\n      <td>양구</td>\n    </tr>\n    <tr>\n      <th>3</th>\n      <td>0</td>\n      <td>10</td>\n      <td>고성(강원)</td>\n    </tr>\n    <tr>\n      <th>4</th>\n      <td>1</td>\n      <td>3</td>\n      <td>양주</td>\n    </tr>\n  </tbody>\n</table>\n</div>"
     },
     "execution_count": 31,
     "metadata": {},
     "output_type": "execute_result"
    }
   ],
   "source": [
    "election_result.sort_values(['rate_moon'], ascending=[False]).head(10)\n",
    "election_result.sort_values(['rate_hong'], ascending=[False]).head(10)\n",
    "election_result.sort_values(['rate_ahn'], ascending=[False]).head(10)\n",
    "\n",
    "draw_korea = pd.read_csv('./data_saved/05. draw_korea.csv', encoding='utf-8', index_col=0)\n",
    "\n",
    "draw_korea.head()"
   ],
   "metadata": {
    "collapsed": false,
    "pycharm": {
     "name": "#%%\n"
    }
   }
  },
  {
   "cell_type": "code",
   "execution_count": 32,
   "outputs": [
    {
     "data": {
      "text/plain": "{'가평',\n '강릉',\n '강진',\n '거제',\n '거창',\n '경산',\n '경주',\n '계룡',\n '고령',\n '고성(강원)',\n '고성(경남)',\n '고양 덕양',\n '고양 일산동',\n '고양 일산서',\n '고창',\n '고흥',\n '곡성',\n '공주',\n '과천',\n '광명',\n '광양',\n '광주',\n '광주 광산',\n '광주 남구',\n '광주 동구',\n '광주 북구',\n '광주 서구',\n '괴산',\n '구례',\n '구리',\n '구미',\n '군산',\n '군위',\n '군포',\n '금산',\n '김제',\n '김천',\n '김포',\n '김해',\n '나주',\n '남양주',\n '남원',\n '남해',\n '논산',\n '단양',\n '담양',\n '당진',\n '대구 남구',\n '대구 달서',\n '대구 달성',\n '대구 동구',\n '대구 북구',\n '대구 서구',\n '대구 수성',\n '대전 대덕',\n '대전 동구',\n '대전 서구',\n '대전 유성',\n '동두천',\n '동해',\n '목포',\n '무안',\n '무주',\n '문경',\n '밀양',\n '보령',\n '보성',\n '보은',\n '봉화',\n '부산 금정',\n '부산 기장',\n '부산 남구',\n '부산 동구',\n '부산 동래',\n '부산 부산진',\n '부산 북구',\n '부산 사상',\n '부산 사하',\n '부산 서구',\n '부산 수영',\n '부산 연제',\n '부산 영도',\n '부산 해운대',\n '부안',\n '부여',\n '부천 소사',\n '부천 오정',\n '부천 원미',\n '사천',\n '산청',\n '삼척',\n '상주',\n '서귀포',\n '서산',\n '서천',\n '성남 분당',\n '성남 수정',\n '성남 중원',\n '성주',\n '세종',\n '속초',\n '수원 권선',\n '수원 영통',\n '수원 장안',\n '수원 팔달',\n '순창',\n '순천',\n '시흥',\n '신안',\n '아산',\n '안동',\n '안산 단원',\n '안산 상록',\n '안성',\n '안양 동안',\n '안양 만안',\n '양구',\n '양산',\n '양양',\n '양주',\n '양평',\n '여수',\n '여주',\n '연천',\n '영광',\n '영덕',\n '영동',\n '영암',\n '영양',\n '영월',\n '영주',\n '영천',\n '예산',\n '예천',\n '오산',\n '옥천',\n '완도',\n '완주',\n '용인 기흥',\n '용인 수지',\n '용인 처인',\n '울릉',\n '울산 남구',\n '울산 동구',\n '울산 북구',\n '울산 울주',\n '울진',\n '원주',\n '음성',\n '의령',\n '의성',\n '의왕',\n '의정부',\n '이천',\n '익산',\n '인제',\n '인천 강화',\n '인천 계양',\n '인천 남구',\n '인천 남동',\n '인천 동구',\n '인천 부평',\n '인천 서구',\n '인천 연수',\n '인천 옹진',\n '임실',\n '장성',\n '장수',\n '장흥',\n '전주 덕진',\n '전주 완산',\n '정선',\n '정읍',\n '제주',\n '제천',\n '증평',\n '진도',\n '진안',\n '진주',\n '진천',\n '창녕',\n '창원 성산',\n '창원 의창',\n '창원 진해',\n '창원 합포',\n '창원 회원',\n '천안 동남',\n '천안 서북',\n '철원',\n '청도',\n '청송',\n '청양',\n '청주 상당',\n '청주 서원',\n '청주 청원',\n '청주 흥덕',\n '춘천',\n '충주',\n '칠곡',\n '태백',\n '태안',\n '통영',\n '파주',\n '평창',\n '평택',\n '포천',\n '포항 남구',\n '포항 북구',\n '하남',\n '하동',\n '함안',\n '함양',\n '함평',\n '합천',\n '해남',\n '홍성',\n '홍천',\n '화성',\n '화순',\n '화천',\n '횡성'}"
     },
     "execution_count": 32,
     "metadata": {},
     "output_type": "execute_result"
    }
   ],
   "source": [
    "set(draw_korea['ID'].unique()) - set(election_result['ID'].unique())"
   ],
   "metadata": {
    "collapsed": false,
    "pycharm": {
     "name": "#%%\n"
    }
   }
  },
  {
   "cell_type": "code",
   "execution_count": 33,
   "outputs": [
    {
     "data": {
      "text/plain": "{'강남',\n '강동',\n '강북',\n '강서',\n '관악',\n '광주 강남',\n '광주 강동',\n '광주 강북',\n '광주 강서',\n '광주 관악',\n '광주 광진',\n '광주 구로',\n '광주 금천',\n '광주 노원',\n '광주 도봉',\n '광주 동대문',\n '광주 동작',\n '광주 마포',\n '광주 서대문',\n '광주 서초',\n '광주 성동',\n '광주 성북',\n '광주 송파',\n '광주 양천',\n '광주 영등포',\n '광주 용산',\n '광주 은평',\n '광주 종로',\n '광주 중구',\n '광주 중랑',\n '광진',\n '구로',\n '금천',\n '노원',\n '대구 강남',\n '대구 강동',\n '대구 강북',\n '대구 강서',\n '대구 관악',\n '대구 광진',\n '대구 구로',\n '대구 금천',\n '대구 노원',\n '대구 도봉',\n '대구 동대문',\n '대구 동작',\n '대구 마포',\n '대구 서대문',\n '대구 서초',\n '대구 성동',\n '대구 성북',\n '대구 송파',\n '대구 양천',\n '대구 영등포',\n '대구 용산',\n '대구 은평',\n '대구 종로',\n '대구 중랑',\n '대전 강남',\n '대전 강동',\n '대전 강북',\n '대전 강서',\n '대전 관악',\n '대전 광진',\n '대전 구로',\n '대전 금천',\n '대전 노원',\n '대전 도봉',\n '대전 동대문',\n '대전 동작',\n '대전 마포',\n '대전 서대문',\n '대전 서초',\n '대전 성동',\n '대전 성북',\n '대전 송파',\n '대전 양천',\n '대전 영등포',\n '대전 용산',\n '대전 은평',\n '대전 종로',\n '대전 중랑',\n '도봉',\n '동대문',\n '동작',\n '마포',\n '부산 강남',\n '부산 강동',\n '부산 강북',\n '부산 관악',\n '부산 광진',\n '부산 구로',\n '부산 금천',\n '부산 노원',\n '부산 도봉',\n '부산 동대문',\n '부산 동작',\n '부산 마포',\n '부산 서대문',\n '부산 서초',\n '부산 성동',\n '부산 성북',\n '부산 송파',\n '부산 양천',\n '부산 영등포',\n '부산 용산',\n '부산 은평',\n '부산 종로',\n '부산 중랑',\n '서대문',\n '서초',\n '성동',\n '성북',\n '송파',\n '양천',\n '영등포',\n '용산',\n '울산 강남',\n '울산 강동',\n '울산 강북',\n '울산 강서',\n '울산 관악',\n '울산 광진',\n '울산 구로',\n '울산 금천',\n '울산 노원',\n '울산 도봉',\n '울산 동대문',\n '울산 동작',\n '울산 마포',\n '울산 서대문',\n '울산 서초',\n '울산 성동',\n '울산 성북',\n '울산 송파',\n '울산 양천',\n '울산 영등포',\n '울산 용산',\n '울산 은평',\n '울산 종로',\n '울산 중랑',\n '은평',\n '인천 강남',\n '인천 강동',\n '인천 강북',\n '인천 강서',\n '인천 관악',\n '인천 광진',\n '인천 구로',\n '인천 금천',\n '인천 노원',\n '인천 도봉',\n '인천 동대문',\n '인천 동작',\n '인천 마포',\n '인천 서대문',\n '인천 서초',\n '인천 성동',\n '인천 성북',\n '인천 송파',\n '인천 양천',\n '인천 영등포',\n '인천 용산',\n '인천 은평',\n '인천 종로',\n '인천 중랑',\n '종로',\n '중구',\n '중랑'}"
     },
     "execution_count": 33,
     "metadata": {},
     "output_type": "execute_result"
    }
   ],
   "source": [
    "set(election_result['ID'].unique()) - set(draw_korea['ID'].unique())"
   ],
   "metadata": {
    "collapsed": false,
    "pycharm": {
     "name": "#%%\n"
    }
   }
  },
  {
   "cell_type": "code",
   "execution_count": 34,
   "outputs": [
    {
     "data": {
      "text/plain": "Empty DataFrame\nColumns: [광역시도, 시군, pop, moon, hong, ahn, ID, rate_moon, rate_hong, rate_ahn]\nIndex: []",
      "text/html": "<div>\n<style scoped>\n    .dataframe tbody tr th:only-of-type {\n        vertical-align: middle;\n    }\n\n    .dataframe tbody tr th {\n        vertical-align: top;\n    }\n\n    .dataframe thead th {\n        text-align: right;\n    }\n</style>\n<table border=\"1\" class=\"dataframe\">\n  <thead>\n    <tr style=\"text-align: right;\">\n      <th></th>\n      <th>광역시도</th>\n      <th>시군</th>\n      <th>pop</th>\n      <th>moon</th>\n      <th>hong</th>\n      <th>ahn</th>\n      <th>ID</th>\n      <th>rate_moon</th>\n      <th>rate_hong</th>\n      <th>rate_ahn</th>\n    </tr>\n  </thead>\n  <tbody>\n  </tbody>\n</table>\n</div>"
     },
     "execution_count": 34,
     "metadata": {},
     "output_type": "execute_result"
    }
   ],
   "source": [
    "election_result[election_result['ID'] == '고성']"
   ],
   "metadata": {
    "collapsed": false,
    "pycharm": {
     "name": "#%%\n"
    }
   }
  },
  {
   "cell_type": "code",
   "execution_count": 35,
   "outputs": [
    {
     "data": {
      "text/plain": "Empty DataFrame\nColumns: [광역시도, 시군, pop, moon, hong, ahn, ID, rate_moon, rate_hong, rate_ahn]\nIndex: []",
      "text/html": "<div>\n<style scoped>\n    .dataframe tbody tr th:only-of-type {\n        vertical-align: middle;\n    }\n\n    .dataframe tbody tr th {\n        vertical-align: top;\n    }\n\n    .dataframe thead th {\n        text-align: right;\n    }\n</style>\n<table border=\"1\" class=\"dataframe\">\n  <thead>\n    <tr style=\"text-align: right;\">\n      <th></th>\n      <th>광역시도</th>\n      <th>시군</th>\n      <th>pop</th>\n      <th>moon</th>\n      <th>hong</th>\n      <th>ahn</th>\n      <th>ID</th>\n      <th>rate_moon</th>\n      <th>rate_hong</th>\n      <th>rate_ahn</th>\n    </tr>\n  </thead>\n  <tbody>\n  </tbody>\n</table>\n</div>"
     },
     "execution_count": 35,
     "metadata": {},
     "output_type": "execute_result"
    }
   ],
   "source": [
    "election_result.loc[125, 'ID'] = '고성(강원)'\n",
    "election_result.loc[233, 'ID'] = '고성(경남)'\n",
    "\n",
    "election_result[election_result['시군'] == '고성군']"
   ],
   "metadata": {
    "collapsed": false,
    "pycharm": {
     "name": "#%%\n"
    }
   }
  },
  {
   "cell_type": "code",
   "execution_count": 36,
   "outputs": [
    {
     "data": {
      "text/plain": "     광역시도    시군     pop      moon     hong      ahn   ID  rate_moon  \\\n375  경상남도   종로구  102566   42512.0  22325.0  22313.0   종로  41.448433   \n376  경상남도    중구   82852   34062.0  17901.0  19372.0   중구  41.111862   \n377  경상남도   용산구  148157   58081.0  35230.0  32109.0   용산  39.202333   \n378  경상남도   성동구  203175   86686.0  40566.0  45674.0   성동  42.665682   \n379  경상남도   광진구  240030  105512.0  46368.0  52824.0   광진  43.957839   \n380  경상남도  동대문구  236092   98958.0  51631.0  53359.0  동대문  41.915016   \n381  경상남도   중랑구  265706  111450.0  56545.0  62778.0   중랑  41.944856   \n382  경상남도   성북구  295866  129263.0  57584.0  66518.0   성북  43.689711   \n383  경상남도   강북구  210614   89645.0  42268.0  51669.0   강북  42.563647   \n384  경상남도   도봉구  229233   94898.0  47461.0  55600.0   도봉  41.398054   \n385  경상남도   노원구  374213  158167.0  67590.0  96325.0   노원  42.266570   \n386  경상남도   은평구  317275  140180.0  60109.0  72582.0   은평  44.182492   \n387  경상남도  서대문구  212076   93768.0  40513.0  46237.0  서대문  44.214338   \n388  경상남도   마포구  256992  117336.0  46547.0  52545.0   마포  45.657452   \n389  경상남도   양천구  310886  133853.0  60814.0  71816.0   양천  43.055332   \n390  경상남도   강서구  397108  175882.0  76601.0  88128.0   강서  44.290722   \n391  경상남도   구로구  278805  121077.0  59194.0  61734.0   구로  43.427126   \n392  경상남도   금천구  155010   67423.0  31106.0  36695.0   금천  43.495903   \n393  경상남도  영등포구  248833  105834.0  53615.0  53994.0  영등포  42.532140   \n394  경상남도   동작구  276685  121722.0  54431.0  60305.0   동작  43.992988   \n395  경상남도   관악구  351240  159854.0  59914.0  79495.0   관악  45.511331   \n396  경상남도   서초구  292916  106416.0  74891.0  63977.0   서초  36.329869   \n397  경상남도   강남구  365642  128927.0  97639.0  80201.0   강남  35.260446   \n398  경상남도   송파구  441198  177328.0  98549.0  99018.0   송파  40.192385   \n399  경상남도   강동구  297476  122511.0  65893.0  67499.0   강동  41.183490   \n\n     rate_hong   rate_ahn  \n375  21.766472  21.754773  \n376  21.605996  23.381451  \n377  23.778829  21.672280  \n378  19.966039  22.480128  \n379  19.317585  22.007249  \n380  21.869017  22.600935  \n381  21.281040  23.626866  \n382  19.462865  22.482475  \n383  20.068941  24.532557  \n384  20.704262  24.254798  \n385  18.061906  25.740688  \n386  18.945394  22.876684  \n387  19.103057  21.802090  \n388  18.112237  20.446162  \n389  19.561511  23.100429  \n390  19.289715  22.192451  \n391  21.231327  22.142358  \n392  20.067092  23.672666  \n393  21.546579  21.698890  \n394  19.672552  21.795544  \n395  17.057852  22.632673  \n396  25.567398  21.841415  \n397  26.703442  21.934296  \n398  22.336683  22.442985  \n399  22.150695  22.690570  ",
      "text/html": "<div>\n<style scoped>\n    .dataframe tbody tr th:only-of-type {\n        vertical-align: middle;\n    }\n\n    .dataframe tbody tr th {\n        vertical-align: top;\n    }\n\n    .dataframe thead th {\n        text-align: right;\n    }\n</style>\n<table border=\"1\" class=\"dataframe\">\n  <thead>\n    <tr style=\"text-align: right;\">\n      <th></th>\n      <th>광역시도</th>\n      <th>시군</th>\n      <th>pop</th>\n      <th>moon</th>\n      <th>hong</th>\n      <th>ahn</th>\n      <th>ID</th>\n      <th>rate_moon</th>\n      <th>rate_hong</th>\n      <th>rate_ahn</th>\n    </tr>\n  </thead>\n  <tbody>\n    <tr>\n      <th>375</th>\n      <td>경상남도</td>\n      <td>종로구</td>\n      <td>102566</td>\n      <td>42512.0</td>\n      <td>22325.0</td>\n      <td>22313.0</td>\n      <td>종로</td>\n      <td>41.448433</td>\n      <td>21.766472</td>\n      <td>21.754773</td>\n    </tr>\n    <tr>\n      <th>376</th>\n      <td>경상남도</td>\n      <td>중구</td>\n      <td>82852</td>\n      <td>34062.0</td>\n      <td>17901.0</td>\n      <td>19372.0</td>\n      <td>중구</td>\n      <td>41.111862</td>\n      <td>21.605996</td>\n      <td>23.381451</td>\n    </tr>\n    <tr>\n      <th>377</th>\n      <td>경상남도</td>\n      <td>용산구</td>\n      <td>148157</td>\n      <td>58081.0</td>\n      <td>35230.0</td>\n      <td>32109.0</td>\n      <td>용산</td>\n      <td>39.202333</td>\n      <td>23.778829</td>\n      <td>21.672280</td>\n    </tr>\n    <tr>\n      <th>378</th>\n      <td>경상남도</td>\n      <td>성동구</td>\n      <td>203175</td>\n      <td>86686.0</td>\n      <td>40566.0</td>\n      <td>45674.0</td>\n      <td>성동</td>\n      <td>42.665682</td>\n      <td>19.966039</td>\n      <td>22.480128</td>\n    </tr>\n    <tr>\n      <th>379</th>\n      <td>경상남도</td>\n      <td>광진구</td>\n      <td>240030</td>\n      <td>105512.0</td>\n      <td>46368.0</td>\n      <td>52824.0</td>\n      <td>광진</td>\n      <td>43.957839</td>\n      <td>19.317585</td>\n      <td>22.007249</td>\n    </tr>\n    <tr>\n      <th>380</th>\n      <td>경상남도</td>\n      <td>동대문구</td>\n      <td>236092</td>\n      <td>98958.0</td>\n      <td>51631.0</td>\n      <td>53359.0</td>\n      <td>동대문</td>\n      <td>41.915016</td>\n      <td>21.869017</td>\n      <td>22.600935</td>\n    </tr>\n    <tr>\n      <th>381</th>\n      <td>경상남도</td>\n      <td>중랑구</td>\n      <td>265706</td>\n      <td>111450.0</td>\n      <td>56545.0</td>\n      <td>62778.0</td>\n      <td>중랑</td>\n      <td>41.944856</td>\n      <td>21.281040</td>\n      <td>23.626866</td>\n    </tr>\n    <tr>\n      <th>382</th>\n      <td>경상남도</td>\n      <td>성북구</td>\n      <td>295866</td>\n      <td>129263.0</td>\n      <td>57584.0</td>\n      <td>66518.0</td>\n      <td>성북</td>\n      <td>43.689711</td>\n      <td>19.462865</td>\n      <td>22.482475</td>\n    </tr>\n    <tr>\n      <th>383</th>\n      <td>경상남도</td>\n      <td>강북구</td>\n      <td>210614</td>\n      <td>89645.0</td>\n      <td>42268.0</td>\n      <td>51669.0</td>\n      <td>강북</td>\n      <td>42.563647</td>\n      <td>20.068941</td>\n      <td>24.532557</td>\n    </tr>\n    <tr>\n      <th>384</th>\n      <td>경상남도</td>\n      <td>도봉구</td>\n      <td>229233</td>\n      <td>94898.0</td>\n      <td>47461.0</td>\n      <td>55600.0</td>\n      <td>도봉</td>\n      <td>41.398054</td>\n      <td>20.704262</td>\n      <td>24.254798</td>\n    </tr>\n    <tr>\n      <th>385</th>\n      <td>경상남도</td>\n      <td>노원구</td>\n      <td>374213</td>\n      <td>158167.0</td>\n      <td>67590.0</td>\n      <td>96325.0</td>\n      <td>노원</td>\n      <td>42.266570</td>\n      <td>18.061906</td>\n      <td>25.740688</td>\n    </tr>\n    <tr>\n      <th>386</th>\n      <td>경상남도</td>\n      <td>은평구</td>\n      <td>317275</td>\n      <td>140180.0</td>\n      <td>60109.0</td>\n      <td>72582.0</td>\n      <td>은평</td>\n      <td>44.182492</td>\n      <td>18.945394</td>\n      <td>22.876684</td>\n    </tr>\n    <tr>\n      <th>387</th>\n      <td>경상남도</td>\n      <td>서대문구</td>\n      <td>212076</td>\n      <td>93768.0</td>\n      <td>40513.0</td>\n      <td>46237.0</td>\n      <td>서대문</td>\n      <td>44.214338</td>\n      <td>19.103057</td>\n      <td>21.802090</td>\n    </tr>\n    <tr>\n      <th>388</th>\n      <td>경상남도</td>\n      <td>마포구</td>\n      <td>256992</td>\n      <td>117336.0</td>\n      <td>46547.0</td>\n      <td>52545.0</td>\n      <td>마포</td>\n      <td>45.657452</td>\n      <td>18.112237</td>\n      <td>20.446162</td>\n    </tr>\n    <tr>\n      <th>389</th>\n      <td>경상남도</td>\n      <td>양천구</td>\n      <td>310886</td>\n      <td>133853.0</td>\n      <td>60814.0</td>\n      <td>71816.0</td>\n      <td>양천</td>\n      <td>43.055332</td>\n      <td>19.561511</td>\n      <td>23.100429</td>\n    </tr>\n    <tr>\n      <th>390</th>\n      <td>경상남도</td>\n      <td>강서구</td>\n      <td>397108</td>\n      <td>175882.0</td>\n      <td>76601.0</td>\n      <td>88128.0</td>\n      <td>강서</td>\n      <td>44.290722</td>\n      <td>19.289715</td>\n      <td>22.192451</td>\n    </tr>\n    <tr>\n      <th>391</th>\n      <td>경상남도</td>\n      <td>구로구</td>\n      <td>278805</td>\n      <td>121077.0</td>\n      <td>59194.0</td>\n      <td>61734.0</td>\n      <td>구로</td>\n      <td>43.427126</td>\n      <td>21.231327</td>\n      <td>22.142358</td>\n    </tr>\n    <tr>\n      <th>392</th>\n      <td>경상남도</td>\n      <td>금천구</td>\n      <td>155010</td>\n      <td>67423.0</td>\n      <td>31106.0</td>\n      <td>36695.0</td>\n      <td>금천</td>\n      <td>43.495903</td>\n      <td>20.067092</td>\n      <td>23.672666</td>\n    </tr>\n    <tr>\n      <th>393</th>\n      <td>경상남도</td>\n      <td>영등포구</td>\n      <td>248833</td>\n      <td>105834.0</td>\n      <td>53615.0</td>\n      <td>53994.0</td>\n      <td>영등포</td>\n      <td>42.532140</td>\n      <td>21.546579</td>\n      <td>21.698890</td>\n    </tr>\n    <tr>\n      <th>394</th>\n      <td>경상남도</td>\n      <td>동작구</td>\n      <td>276685</td>\n      <td>121722.0</td>\n      <td>54431.0</td>\n      <td>60305.0</td>\n      <td>동작</td>\n      <td>43.992988</td>\n      <td>19.672552</td>\n      <td>21.795544</td>\n    </tr>\n    <tr>\n      <th>395</th>\n      <td>경상남도</td>\n      <td>관악구</td>\n      <td>351240</td>\n      <td>159854.0</td>\n      <td>59914.0</td>\n      <td>79495.0</td>\n      <td>관악</td>\n      <td>45.511331</td>\n      <td>17.057852</td>\n      <td>22.632673</td>\n    </tr>\n    <tr>\n      <th>396</th>\n      <td>경상남도</td>\n      <td>서초구</td>\n      <td>292916</td>\n      <td>106416.0</td>\n      <td>74891.0</td>\n      <td>63977.0</td>\n      <td>서초</td>\n      <td>36.329869</td>\n      <td>25.567398</td>\n      <td>21.841415</td>\n    </tr>\n    <tr>\n      <th>397</th>\n      <td>경상남도</td>\n      <td>강남구</td>\n      <td>365642</td>\n      <td>128927.0</td>\n      <td>97639.0</td>\n      <td>80201.0</td>\n      <td>강남</td>\n      <td>35.260446</td>\n      <td>26.703442</td>\n      <td>21.934296</td>\n    </tr>\n    <tr>\n      <th>398</th>\n      <td>경상남도</td>\n      <td>송파구</td>\n      <td>441198</td>\n      <td>177328.0</td>\n      <td>98549.0</td>\n      <td>99018.0</td>\n      <td>송파</td>\n      <td>40.192385</td>\n      <td>22.336683</td>\n      <td>22.442985</td>\n    </tr>\n    <tr>\n      <th>399</th>\n      <td>경상남도</td>\n      <td>강동구</td>\n      <td>297476</td>\n      <td>122511.0</td>\n      <td>65893.0</td>\n      <td>67499.0</td>\n      <td>강동</td>\n      <td>41.183490</td>\n      <td>22.150695</td>\n      <td>22.690570</td>\n    </tr>\n  </tbody>\n</table>\n</div>"
     },
     "execution_count": 36,
     "metadata": {},
     "output_type": "execute_result"
    }
   ],
   "source": [
    "election_result[election_result['광역시도'] == '경상남도']"
   ],
   "metadata": {
    "collapsed": false,
    "pycharm": {
     "name": "#%%\n"
    }
   }
  },
  {
   "cell_type": "code",
   "execution_count": 37,
   "outputs": [
    {
     "data": {
      "text/plain": "     광역시도    시군     pop      moon     hong      ahn   ID  rate_moon  \\\n375  경상남도   종로구  102566   42512.0  22325.0  22313.0   종로  41.448433   \n376  경상남도    중구   82852   34062.0  17901.0  19372.0   중구  41.111862   \n377  경상남도   용산구  148157   58081.0  35230.0  32109.0   용산  39.202333   \n378  경상남도   성동구  203175   86686.0  40566.0  45674.0   성동  42.665682   \n379  경상남도   광진구  240030  105512.0  46368.0  52824.0   광진  43.957839   \n380  경상남도  동대문구  236092   98958.0  51631.0  53359.0  동대문  41.915016   \n381  경상남도   중랑구  265706  111450.0  56545.0  62778.0   중랑  41.944856   \n382  경상남도   성북구  295866  129263.0  57584.0  66518.0   성북  43.689711   \n383  경상남도   강북구  210614   89645.0  42268.0  51669.0   강북  42.563647   \n384  경상남도   도봉구  229233   94898.0  47461.0  55600.0   도봉  41.398054   \n385  경상남도   노원구  374213  158167.0  67590.0  96325.0   노원  42.266570   \n386  경상남도   은평구  317275  140180.0  60109.0  72582.0   은평  44.182492   \n387  경상남도  서대문구  212076   93768.0  40513.0  46237.0  서대문  44.214338   \n388  경상남도   마포구  256992  117336.0  46547.0  52545.0   마포  45.657452   \n389  경상남도   양천구  310886  133853.0  60814.0  71816.0   양천  43.055332   \n390  경상남도   강서구  397108  175882.0  76601.0  88128.0   강서  44.290722   \n391  경상남도   구로구  278805  121077.0  59194.0  61734.0   구로  43.427126   \n392  경상남도   금천구  155010   67423.0  31106.0  36695.0   금천  43.495903   \n393  경상남도  영등포구  248833  105834.0  53615.0  53994.0  영등포  42.532140   \n394  경상남도   동작구  276685  121722.0  54431.0  60305.0   동작  43.992988   \n395  경상남도   관악구  351240  159854.0  59914.0  79495.0   관악  45.511331   \n396  경상남도   서초구  292916  106416.0  74891.0  63977.0   서초  36.329869   \n397  경상남도   강남구  365642  128927.0  97639.0  80201.0   강남  35.260446   \n398  경상남도   송파구  441198  177328.0  98549.0  99018.0   송파  40.192385   \n399  경상남도   강동구  297476  122511.0  65893.0  67499.0   강동  41.183490   \n\n     rate_hong   rate_ahn  \n375  21.766472  21.754773  \n376  21.605996  23.381451  \n377  23.778829  21.672280  \n378  19.966039  22.480128  \n379  19.317585  22.007249  \n380  21.869017  22.600935  \n381  21.281040  23.626866  \n382  19.462865  22.482475  \n383  20.068941  24.532557  \n384  20.704262  24.254798  \n385  18.061906  25.740688  \n386  18.945394  22.876684  \n387  19.103057  21.802090  \n388  18.112237  20.446162  \n389  19.561511  23.100429  \n390  19.289715  22.192451  \n391  21.231327  22.142358  \n392  20.067092  23.672666  \n393  21.546579  21.698890  \n394  19.672552  21.795544  \n395  17.057852  22.632673  \n396  25.567398  21.841415  \n397  26.703442  21.934296  \n398  22.336683  22.442985  \n399  22.150695  22.690570  ",
      "text/html": "<div>\n<style scoped>\n    .dataframe tbody tr th:only-of-type {\n        vertical-align: middle;\n    }\n\n    .dataframe tbody tr th {\n        vertical-align: top;\n    }\n\n    .dataframe thead th {\n        text-align: right;\n    }\n</style>\n<table border=\"1\" class=\"dataframe\">\n  <thead>\n    <tr style=\"text-align: right;\">\n      <th></th>\n      <th>광역시도</th>\n      <th>시군</th>\n      <th>pop</th>\n      <th>moon</th>\n      <th>hong</th>\n      <th>ahn</th>\n      <th>ID</th>\n      <th>rate_moon</th>\n      <th>rate_hong</th>\n      <th>rate_ahn</th>\n    </tr>\n  </thead>\n  <tbody>\n    <tr>\n      <th>375</th>\n      <td>경상남도</td>\n      <td>종로구</td>\n      <td>102566</td>\n      <td>42512.0</td>\n      <td>22325.0</td>\n      <td>22313.0</td>\n      <td>종로</td>\n      <td>41.448433</td>\n      <td>21.766472</td>\n      <td>21.754773</td>\n    </tr>\n    <tr>\n      <th>376</th>\n      <td>경상남도</td>\n      <td>중구</td>\n      <td>82852</td>\n      <td>34062.0</td>\n      <td>17901.0</td>\n      <td>19372.0</td>\n      <td>중구</td>\n      <td>41.111862</td>\n      <td>21.605996</td>\n      <td>23.381451</td>\n    </tr>\n    <tr>\n      <th>377</th>\n      <td>경상남도</td>\n      <td>용산구</td>\n      <td>148157</td>\n      <td>58081.0</td>\n      <td>35230.0</td>\n      <td>32109.0</td>\n      <td>용산</td>\n      <td>39.202333</td>\n      <td>23.778829</td>\n      <td>21.672280</td>\n    </tr>\n    <tr>\n      <th>378</th>\n      <td>경상남도</td>\n      <td>성동구</td>\n      <td>203175</td>\n      <td>86686.0</td>\n      <td>40566.0</td>\n      <td>45674.0</td>\n      <td>성동</td>\n      <td>42.665682</td>\n      <td>19.966039</td>\n      <td>22.480128</td>\n    </tr>\n    <tr>\n      <th>379</th>\n      <td>경상남도</td>\n      <td>광진구</td>\n      <td>240030</td>\n      <td>105512.0</td>\n      <td>46368.0</td>\n      <td>52824.0</td>\n      <td>광진</td>\n      <td>43.957839</td>\n      <td>19.317585</td>\n      <td>22.007249</td>\n    </tr>\n    <tr>\n      <th>380</th>\n      <td>경상남도</td>\n      <td>동대문구</td>\n      <td>236092</td>\n      <td>98958.0</td>\n      <td>51631.0</td>\n      <td>53359.0</td>\n      <td>동대문</td>\n      <td>41.915016</td>\n      <td>21.869017</td>\n      <td>22.600935</td>\n    </tr>\n    <tr>\n      <th>381</th>\n      <td>경상남도</td>\n      <td>중랑구</td>\n      <td>265706</td>\n      <td>111450.0</td>\n      <td>56545.0</td>\n      <td>62778.0</td>\n      <td>중랑</td>\n      <td>41.944856</td>\n      <td>21.281040</td>\n      <td>23.626866</td>\n    </tr>\n    <tr>\n      <th>382</th>\n      <td>경상남도</td>\n      <td>성북구</td>\n      <td>295866</td>\n      <td>129263.0</td>\n      <td>57584.0</td>\n      <td>66518.0</td>\n      <td>성북</td>\n      <td>43.689711</td>\n      <td>19.462865</td>\n      <td>22.482475</td>\n    </tr>\n    <tr>\n      <th>383</th>\n      <td>경상남도</td>\n      <td>강북구</td>\n      <td>210614</td>\n      <td>89645.0</td>\n      <td>42268.0</td>\n      <td>51669.0</td>\n      <td>강북</td>\n      <td>42.563647</td>\n      <td>20.068941</td>\n      <td>24.532557</td>\n    </tr>\n    <tr>\n      <th>384</th>\n      <td>경상남도</td>\n      <td>도봉구</td>\n      <td>229233</td>\n      <td>94898.0</td>\n      <td>47461.0</td>\n      <td>55600.0</td>\n      <td>도봉</td>\n      <td>41.398054</td>\n      <td>20.704262</td>\n      <td>24.254798</td>\n    </tr>\n    <tr>\n      <th>385</th>\n      <td>경상남도</td>\n      <td>노원구</td>\n      <td>374213</td>\n      <td>158167.0</td>\n      <td>67590.0</td>\n      <td>96325.0</td>\n      <td>노원</td>\n      <td>42.266570</td>\n      <td>18.061906</td>\n      <td>25.740688</td>\n    </tr>\n    <tr>\n      <th>386</th>\n      <td>경상남도</td>\n      <td>은평구</td>\n      <td>317275</td>\n      <td>140180.0</td>\n      <td>60109.0</td>\n      <td>72582.0</td>\n      <td>은평</td>\n      <td>44.182492</td>\n      <td>18.945394</td>\n      <td>22.876684</td>\n    </tr>\n    <tr>\n      <th>387</th>\n      <td>경상남도</td>\n      <td>서대문구</td>\n      <td>212076</td>\n      <td>93768.0</td>\n      <td>40513.0</td>\n      <td>46237.0</td>\n      <td>서대문</td>\n      <td>44.214338</td>\n      <td>19.103057</td>\n      <td>21.802090</td>\n    </tr>\n    <tr>\n      <th>388</th>\n      <td>경상남도</td>\n      <td>마포구</td>\n      <td>256992</td>\n      <td>117336.0</td>\n      <td>46547.0</td>\n      <td>52545.0</td>\n      <td>마포</td>\n      <td>45.657452</td>\n      <td>18.112237</td>\n      <td>20.446162</td>\n    </tr>\n    <tr>\n      <th>389</th>\n      <td>경상남도</td>\n      <td>양천구</td>\n      <td>310886</td>\n      <td>133853.0</td>\n      <td>60814.0</td>\n      <td>71816.0</td>\n      <td>양천</td>\n      <td>43.055332</td>\n      <td>19.561511</td>\n      <td>23.100429</td>\n    </tr>\n    <tr>\n      <th>390</th>\n      <td>경상남도</td>\n      <td>강서구</td>\n      <td>397108</td>\n      <td>175882.0</td>\n      <td>76601.0</td>\n      <td>88128.0</td>\n      <td>강서</td>\n      <td>44.290722</td>\n      <td>19.289715</td>\n      <td>22.192451</td>\n    </tr>\n    <tr>\n      <th>391</th>\n      <td>경상남도</td>\n      <td>구로구</td>\n      <td>278805</td>\n      <td>121077.0</td>\n      <td>59194.0</td>\n      <td>61734.0</td>\n      <td>구로</td>\n      <td>43.427126</td>\n      <td>21.231327</td>\n      <td>22.142358</td>\n    </tr>\n    <tr>\n      <th>392</th>\n      <td>경상남도</td>\n      <td>금천구</td>\n      <td>155010</td>\n      <td>67423.0</td>\n      <td>31106.0</td>\n      <td>36695.0</td>\n      <td>금천</td>\n      <td>43.495903</td>\n      <td>20.067092</td>\n      <td>23.672666</td>\n    </tr>\n    <tr>\n      <th>393</th>\n      <td>경상남도</td>\n      <td>영등포구</td>\n      <td>248833</td>\n      <td>105834.0</td>\n      <td>53615.0</td>\n      <td>53994.0</td>\n      <td>영등포</td>\n      <td>42.532140</td>\n      <td>21.546579</td>\n      <td>21.698890</td>\n    </tr>\n    <tr>\n      <th>394</th>\n      <td>경상남도</td>\n      <td>동작구</td>\n      <td>276685</td>\n      <td>121722.0</td>\n      <td>54431.0</td>\n      <td>60305.0</td>\n      <td>동작</td>\n      <td>43.992988</td>\n      <td>19.672552</td>\n      <td>21.795544</td>\n    </tr>\n    <tr>\n      <th>395</th>\n      <td>경상남도</td>\n      <td>관악구</td>\n      <td>351240</td>\n      <td>159854.0</td>\n      <td>59914.0</td>\n      <td>79495.0</td>\n      <td>관악</td>\n      <td>45.511331</td>\n      <td>17.057852</td>\n      <td>22.632673</td>\n    </tr>\n    <tr>\n      <th>396</th>\n      <td>경상남도</td>\n      <td>서초구</td>\n      <td>292916</td>\n      <td>106416.0</td>\n      <td>74891.0</td>\n      <td>63977.0</td>\n      <td>서초</td>\n      <td>36.329869</td>\n      <td>25.567398</td>\n      <td>21.841415</td>\n    </tr>\n    <tr>\n      <th>397</th>\n      <td>경상남도</td>\n      <td>강남구</td>\n      <td>365642</td>\n      <td>128927.0</td>\n      <td>97639.0</td>\n      <td>80201.0</td>\n      <td>강남</td>\n      <td>35.260446</td>\n      <td>26.703442</td>\n      <td>21.934296</td>\n    </tr>\n    <tr>\n      <th>398</th>\n      <td>경상남도</td>\n      <td>송파구</td>\n      <td>441198</td>\n      <td>177328.0</td>\n      <td>98549.0</td>\n      <td>99018.0</td>\n      <td>송파</td>\n      <td>40.192385</td>\n      <td>22.336683</td>\n      <td>22.442985</td>\n    </tr>\n    <tr>\n      <th>399</th>\n      <td>경상남도</td>\n      <td>강동구</td>\n      <td>297476</td>\n      <td>122511.0</td>\n      <td>65893.0</td>\n      <td>67499.0</td>\n      <td>강동</td>\n      <td>41.183490</td>\n      <td>22.150695</td>\n      <td>22.690570</td>\n    </tr>\n  </tbody>\n</table>\n</div>"
     },
     "execution_count": 37,
     "metadata": {},
     "output_type": "execute_result"
    }
   ],
   "source": [
    "election_result.loc[228, 'ID'] = '창원 합포'\n",
    "election_result.loc[229, 'ID'] = '창원 회원'\n",
    "election_result[election_result['광역시도'] == '경상남도']"
   ],
   "metadata": {
    "collapsed": false,
    "pycharm": {
     "name": "#%%\n"
    }
   }
  },
  {
   "cell_type": "code",
   "execution_count": 38,
   "outputs": [
    {
     "data": {
      "text/plain": "{'가평',\n '강릉',\n '강진',\n '거제',\n '거창',\n '경산',\n '경주',\n '계룡',\n '고령',\n '고양 덕양',\n '고양 일산동',\n '고양 일산서',\n '고창',\n '고흥',\n '곡성',\n '공주',\n '과천',\n '광명',\n '광양',\n '광주',\n '광주 광산',\n '광주 남구',\n '광주 동구',\n '광주 북구',\n '광주 서구',\n '괴산',\n '구례',\n '구리',\n '구미',\n '군산',\n '군위',\n '군포',\n '금산',\n '김제',\n '김천',\n '김포',\n '김해',\n '나주',\n '남양주',\n '남원',\n '남해',\n '논산',\n '단양',\n '담양',\n '당진',\n '대구 남구',\n '대구 달서',\n '대구 달성',\n '대구 동구',\n '대구 북구',\n '대구 서구',\n '대구 수성',\n '대전 대덕',\n '대전 동구',\n '대전 서구',\n '대전 유성',\n '동두천',\n '동해',\n '목포',\n '무안',\n '무주',\n '문경',\n '밀양',\n '보령',\n '보성',\n '보은',\n '봉화',\n '부산 금정',\n '부산 기장',\n '부산 남구',\n '부산 동구',\n '부산 동래',\n '부산 부산진',\n '부산 북구',\n '부산 사상',\n '부산 사하',\n '부산 서구',\n '부산 수영',\n '부산 연제',\n '부산 영도',\n '부산 해운대',\n '부안',\n '부여',\n '부천 소사',\n '부천 오정',\n '부천 원미',\n '사천',\n '산청',\n '삼척',\n '상주',\n '서귀포',\n '서산',\n '서천',\n '성남 분당',\n '성남 수정',\n '성남 중원',\n '성주',\n '세종',\n '속초',\n '수원 권선',\n '수원 영통',\n '수원 장안',\n '수원 팔달',\n '순창',\n '순천',\n '시흥',\n '신안',\n '아산',\n '안동',\n '안산 단원',\n '안산 상록',\n '안성',\n '안양 동안',\n '안양 만안',\n '양구',\n '양산',\n '양양',\n '양주',\n '양평',\n '여수',\n '여주',\n '연천',\n '영광',\n '영덕',\n '영동',\n '영암',\n '영양',\n '영월',\n '영주',\n '영천',\n '예산',\n '예천',\n '오산',\n '옥천',\n '완도',\n '완주',\n '용인 기흥',\n '용인 수지',\n '용인 처인',\n '울릉',\n '울산 남구',\n '울산 동구',\n '울산 북구',\n '울산 울주',\n '울진',\n '원주',\n '음성',\n '의령',\n '의성',\n '의왕',\n '의정부',\n '이천',\n '익산',\n '인제',\n '인천 강화',\n '인천 계양',\n '인천 남구',\n '인천 남동',\n '인천 동구',\n '인천 부평',\n '인천 서구',\n '인천 연수',\n '인천 옹진',\n '임실',\n '장성',\n '장수',\n '장흥',\n '전주 덕진',\n '전주 완산',\n '정선',\n '정읍',\n '제주',\n '제천',\n '증평',\n '진도',\n '진안',\n '진주',\n '진천',\n '창녕',\n '창원 성산',\n '창원 의창',\n '창원 진해',\n '천안 동남',\n '천안 서북',\n '철원',\n '청도',\n '청송',\n '청양',\n '청주 상당',\n '청주 서원',\n '청주 청원',\n '청주 흥덕',\n '춘천',\n '충주',\n '칠곡',\n '태백',\n '태안',\n '통영',\n '파주',\n '평창',\n '평택',\n '포천',\n '포항 남구',\n '포항 북구',\n '하남',\n '하동',\n '함안',\n '함양',\n '함평',\n '합천',\n '해남',\n '홍성',\n '홍천',\n '화성',\n '화순',\n '화천',\n '횡성'}"
     },
     "execution_count": 38,
     "metadata": {},
     "output_type": "execute_result"
    }
   ],
   "source": [
    "set(draw_korea['ID'].unique()) - set(election_result['ID'].unique())"
   ],
   "metadata": {
    "collapsed": false,
    "pycharm": {
     "name": "#%%\n"
    }
   }
  },
  {
   "cell_type": "code",
   "execution_count": 39,
   "outputs": [
    {
     "data": {
      "text/plain": "{'강남',\n '강동',\n '강북',\n '강서',\n '관악',\n '광주 강남',\n '광주 강동',\n '광주 강북',\n '광주 강서',\n '광주 관악',\n '광주 광진',\n '광주 구로',\n '광주 금천',\n '광주 노원',\n '광주 도봉',\n '광주 동대문',\n '광주 동작',\n '광주 마포',\n '광주 서대문',\n '광주 서초',\n '광주 성동',\n '광주 성북',\n '광주 송파',\n '광주 양천',\n '광주 영등포',\n '광주 용산',\n '광주 은평',\n '광주 종로',\n '광주 중구',\n '광주 중랑',\n '광진',\n '구로',\n '금천',\n '노원',\n '대구 강남',\n '대구 강동',\n '대구 강북',\n '대구 강서',\n '대구 관악',\n '대구 광진',\n '대구 구로',\n '대구 금천',\n '대구 노원',\n '대구 도봉',\n '대구 동대문',\n '대구 동작',\n '대구 마포',\n '대구 서대문',\n '대구 서초',\n '대구 성동',\n '대구 성북',\n '대구 송파',\n '대구 양천',\n '대구 영등포',\n '대구 용산',\n '대구 은평',\n '대구 종로',\n '대구 중랑',\n '대전 강남',\n '대전 강동',\n '대전 강북',\n '대전 강서',\n '대전 관악',\n '대전 광진',\n '대전 구로',\n '대전 금천',\n '대전 노원',\n '대전 도봉',\n '대전 동대문',\n '대전 동작',\n '대전 마포',\n '대전 서대문',\n '대전 서초',\n '대전 성동',\n '대전 성북',\n '대전 송파',\n '대전 양천',\n '대전 영등포',\n '대전 용산',\n '대전 은평',\n '대전 중랑',\n '도봉',\n '동대문',\n '동작',\n '마포',\n '부산 강남',\n '부산 강동',\n '부산 강북',\n '부산 관악',\n '부산 광진',\n '부산 구로',\n '부산 금천',\n '부산 노원',\n '부산 도봉',\n '부산 동대문',\n '부산 동작',\n '부산 마포',\n '부산 서대문',\n '부산 서초',\n '부산 성동',\n '부산 성북',\n '부산 송파',\n '부산 양천',\n '부산 영등포',\n '부산 용산',\n '부산 은평',\n '부산 종로',\n '부산 중랑',\n '서대문',\n '서초',\n '성동',\n '성북',\n '송파',\n '양천',\n '영등포',\n '용산',\n '울산 강남',\n '울산 강동',\n '울산 강북',\n '울산 강서',\n '울산 관악',\n '울산 광진',\n '울산 구로',\n '울산 금천',\n '울산 노원',\n '울산 도봉',\n '울산 동대문',\n '울산 동작',\n '울산 마포',\n '울산 서대문',\n '울산 서초',\n '울산 성동',\n '울산 성북',\n '울산 송파',\n '울산 양천',\n '울산 영등포',\n '울산 용산',\n '울산 은평',\n '울산 종로',\n '울산 중랑',\n '은평',\n '인천 강남',\n '인천 강동',\n '인천 강북',\n '인천 강서',\n '인천 관악',\n '인천 광진',\n '인천 구로',\n '인천 금천',\n '인천 노원',\n '인천 도봉',\n '인천 동대문',\n '인천 동작',\n '인천 마포',\n '인천 서대문',\n '인천 서초',\n '인천 성동',\n '인천 성북',\n '인천 송파',\n '인천 양천',\n '인천 영등포',\n '인천 용산',\n '인천 은평',\n '인천 종로',\n '인천 중랑',\n '종로',\n '중구',\n '중랑'}"
     },
     "execution_count": 39,
     "metadata": {},
     "output_type": "execute_result"
    }
   ],
   "source": [
    "set(election_result['ID'].unique()) - set(draw_korea['ID'].unique())"
   ],
   "metadata": {
    "collapsed": false,
    "pycharm": {
     "name": "#%%\n"
    }
   }
  },
  {
   "cell_type": "code",
   "execution_count": 40,
   "outputs": [
    {
     "data": {
      "text/plain": "Empty DataFrame\nColumns: [광역시도, 시군, pop, moon, hong, ahn, ID, rate_moon, rate_hong, rate_ahn]\nIndex: []",
      "text/html": "<div>\n<style scoped>\n    .dataframe tbody tr th:only-of-type {\n        vertical-align: middle;\n    }\n\n    .dataframe tbody tr th {\n        vertical-align: top;\n    }\n\n    .dataframe thead th {\n        text-align: right;\n    }\n</style>\n<table border=\"1\" class=\"dataframe\">\n  <thead>\n    <tr style=\"text-align: right;\">\n      <th></th>\n      <th>광역시도</th>\n      <th>시군</th>\n      <th>pop</th>\n      <th>moon</th>\n      <th>hong</th>\n      <th>ahn</th>\n      <th>ID</th>\n      <th>rate_moon</th>\n      <th>rate_hong</th>\n      <th>rate_ahn</th>\n    </tr>\n  </thead>\n  <tbody>\n  </tbody>\n</table>\n</div>"
     },
     "execution_count": 40,
     "metadata": {},
     "output_type": "execute_result"
    }
   ],
   "source": [
    "election_result[election_result['시군'] == '부천시']"
   ],
   "metadata": {
    "collapsed": false,
    "pycharm": {
     "name": "#%%\n"
    }
   }
  },
  {
   "cell_type": "code",
   "execution_count": 41,
   "outputs": [
    {
     "data": {
      "text/plain": "        광역시도   시군     pop      moon     hong      ahn  ID  rate_moon  \\\n420  제주특별자치도  관악구  351240  159854.0  59914.0  79495.0  관악  45.511331   \n421  제주특별자치도  서초구  292916  106416.0  74891.0  63977.0  서초  36.329869   \n422  제주특별자치도  강남구  365642  128927.0  97639.0  80201.0  강남  35.260446   \n423  제주특별자치도  송파구  441198  177328.0  98549.0  99018.0  송파  40.192385   \n424  제주특별자치도  강동구  297476  122511.0  65893.0  67499.0  강동  41.183490   \n\n     rate_hong   rate_ahn  \n420  17.057852  22.632673  \n421  25.567398  21.841415  \n422  26.703442  21.934296  \n423  22.336683  22.442985  \n424  22.150695  22.690570  ",
      "text/html": "<div>\n<style scoped>\n    .dataframe tbody tr th:only-of-type {\n        vertical-align: middle;\n    }\n\n    .dataframe tbody tr th {\n        vertical-align: top;\n    }\n\n    .dataframe thead th {\n        text-align: right;\n    }\n</style>\n<table border=\"1\" class=\"dataframe\">\n  <thead>\n    <tr style=\"text-align: right;\">\n      <th></th>\n      <th>광역시도</th>\n      <th>시군</th>\n      <th>pop</th>\n      <th>moon</th>\n      <th>hong</th>\n      <th>ahn</th>\n      <th>ID</th>\n      <th>rate_moon</th>\n      <th>rate_hong</th>\n      <th>rate_ahn</th>\n    </tr>\n  </thead>\n  <tbody>\n    <tr>\n      <th>420</th>\n      <td>제주특별자치도</td>\n      <td>관악구</td>\n      <td>351240</td>\n      <td>159854.0</td>\n      <td>59914.0</td>\n      <td>79495.0</td>\n      <td>관악</td>\n      <td>45.511331</td>\n      <td>17.057852</td>\n      <td>22.632673</td>\n    </tr>\n    <tr>\n      <th>421</th>\n      <td>제주특별자치도</td>\n      <td>서초구</td>\n      <td>292916</td>\n      <td>106416.0</td>\n      <td>74891.0</td>\n      <td>63977.0</td>\n      <td>서초</td>\n      <td>36.329869</td>\n      <td>25.567398</td>\n      <td>21.841415</td>\n    </tr>\n    <tr>\n      <th>422</th>\n      <td>제주특별자치도</td>\n      <td>강남구</td>\n      <td>365642</td>\n      <td>128927.0</td>\n      <td>97639.0</td>\n      <td>80201.0</td>\n      <td>강남</td>\n      <td>35.260446</td>\n      <td>26.703442</td>\n      <td>21.934296</td>\n    </tr>\n    <tr>\n      <th>423</th>\n      <td>제주특별자치도</td>\n      <td>송파구</td>\n      <td>441198</td>\n      <td>177328.0</td>\n      <td>98549.0</td>\n      <td>99018.0</td>\n      <td>송파</td>\n      <td>40.192385</td>\n      <td>22.336683</td>\n      <td>22.442985</td>\n    </tr>\n    <tr>\n      <th>424</th>\n      <td>제주특별자치도</td>\n      <td>강동구</td>\n      <td>297476</td>\n      <td>122511.0</td>\n      <td>65893.0</td>\n      <td>67499.0</td>\n      <td>강동</td>\n      <td>41.183490</td>\n      <td>22.150695</td>\n      <td>22.690570</td>\n    </tr>\n  </tbody>\n</table>\n</div>"
     },
     "execution_count": 41,
     "metadata": {},
     "output_type": "execute_result"
    }
   ],
   "source": [
    "election_result.tail()"
   ],
   "metadata": {
    "collapsed": false,
    "pycharm": {
     "name": "#%%\n"
    }
   }
  },
  {
   "cell_type": "code",
   "execution_count": 42,
   "outputs": [],
   "source": [
    "ahn_tmp = election_result.loc[85, 'ahn']/3\n",
    "hong_tmp = election_result.loc[85, 'hong']/3\n",
    "moon_tmp = election_result.loc[85, 'moon']/3\n",
    "pop_tmp = election_result.loc[85, 'pop']/3\n",
    "\n",
    "rate_moon_tmp = election_result.loc[85, 'rate_moon']\n",
    "rate_hong_tmp = election_result.loc[85, 'rate_hong']\n",
    "rate_ahn_tmp = election_result.loc[85, 'rate_ahn']\n",
    "\n",
    "election_result.loc[250] = [ahn_tmp, hong_tmp, moon_tmp, pop_tmp,\n",
    "                           '경기도', '부천시', '부천 소사',\n",
    "                           rate_moon_tmp, rate_hong_tmp, rate_ahn_tmp]\n",
    "election_result.loc[251] = [ahn_tmp, hong_tmp, moon_tmp, pop_tmp,\n",
    "                           '경기도', '부천시', '부천 오정',\n",
    "                           rate_moon_tmp, rate_hong_tmp, rate_ahn_tmp]\n",
    "election_result.loc[252] = [ahn_tmp, hong_tmp, moon_tmp, pop_tmp,\n",
    "                           '경기도', '부천시', '부천 원미',\n",
    "                           rate_moon_tmp, rate_hong_tmp, rate_ahn_tmp]"
   ],
   "metadata": {
    "collapsed": false,
    "pycharm": {
     "name": "#%%\n"
    }
   }
  },
  {
   "cell_type": "code",
   "execution_count": 43,
   "outputs": [
    {
     "data": {
      "text/plain": "Empty DataFrame\nColumns: [광역시도, 시군, pop, moon, hong, ahn, ID, rate_moon, rate_hong, rate_ahn]\nIndex: []",
      "text/html": "<div>\n<style scoped>\n    .dataframe tbody tr th:only-of-type {\n        vertical-align: middle;\n    }\n\n    .dataframe tbody tr th {\n        vertical-align: top;\n    }\n\n    .dataframe thead th {\n        text-align: right;\n    }\n</style>\n<table border=\"1\" class=\"dataframe\">\n  <thead>\n    <tr style=\"text-align: right;\">\n      <th></th>\n      <th>광역시도</th>\n      <th>시군</th>\n      <th>pop</th>\n      <th>moon</th>\n      <th>hong</th>\n      <th>ahn</th>\n      <th>ID</th>\n      <th>rate_moon</th>\n      <th>rate_hong</th>\n      <th>rate_ahn</th>\n    </tr>\n  </thead>\n  <tbody>\n  </tbody>\n</table>\n</div>"
     },
     "execution_count": 43,
     "metadata": {},
     "output_type": "execute_result"
    }
   ],
   "source": [
    "election_result[election_result['시군'] == '부천시']"
   ],
   "metadata": {
    "collapsed": false,
    "pycharm": {
     "name": "#%%\n"
    }
   }
  },
  {
   "cell_type": "code",
   "execution_count": 44,
   "outputs": [
    {
     "data": {
      "text/plain": "Empty DataFrame\nColumns: [광역시도, 시군, pop, moon, hong, ahn, ID, rate_moon, rate_hong, rate_ahn]\nIndex: []",
      "text/html": "<div>\n<style scoped>\n    .dataframe tbody tr th:only-of-type {\n        vertical-align: middle;\n    }\n\n    .dataframe tbody tr th {\n        vertical-align: top;\n    }\n\n    .dataframe thead th {\n        text-align: right;\n    }\n</style>\n<table border=\"1\" class=\"dataframe\">\n  <thead>\n    <tr style=\"text-align: right;\">\n      <th></th>\n      <th>광역시도</th>\n      <th>시군</th>\n      <th>pop</th>\n      <th>moon</th>\n      <th>hong</th>\n      <th>ahn</th>\n      <th>ID</th>\n      <th>rate_moon</th>\n      <th>rate_hong</th>\n      <th>rate_ahn</th>\n    </tr>\n  </thead>\n  <tbody>\n  </tbody>\n</table>\n</div>"
     },
     "execution_count": 44,
     "metadata": {},
     "output_type": "execute_result"
    }
   ],
   "source": [
    "election_result.drop([85], inplace=True)\n",
    "election_result[election_result['시군'] == '부천시']"
   ],
   "metadata": {
    "collapsed": false,
    "pycharm": {
     "name": "#%%\n"
    }
   }
  },
  {
   "cell_type": "code",
   "execution_count": 45,
   "outputs": [
    {
     "data": {
      "text/plain": "{'가평',\n '강릉',\n '강진',\n '거제',\n '거창',\n '경산',\n '경주',\n '계룡',\n '고령',\n '고양 덕양',\n '고양 일산동',\n '고양 일산서',\n '고창',\n '고흥',\n '곡성',\n '공주',\n '과천',\n '광명',\n '광양',\n '광주',\n '광주 광산',\n '광주 남구',\n '광주 동구',\n '광주 북구',\n '광주 서구',\n '괴산',\n '구례',\n '구리',\n '구미',\n '군산',\n '군위',\n '군포',\n '금산',\n '김제',\n '김천',\n '김포',\n '김해',\n '나주',\n '남양주',\n '남원',\n '남해',\n '논산',\n '단양',\n '담양',\n '당진',\n '대구 남구',\n '대구 달서',\n '대구 달성',\n '대구 동구',\n '대구 북구',\n '대구 서구',\n '대구 수성',\n '대전 대덕',\n '대전 동구',\n '대전 서구',\n '대전 유성',\n '동두천',\n '동해',\n '목포',\n '무안',\n '무주',\n '문경',\n '밀양',\n '보령',\n '보성',\n '보은',\n '봉화',\n '부산 금정',\n '부산 기장',\n '부산 남구',\n '부산 동구',\n '부산 동래',\n '부산 부산진',\n '부산 북구',\n '부산 사상',\n '부산 사하',\n '부산 서구',\n '부산 수영',\n '부산 연제',\n '부산 영도',\n '부산 해운대',\n '부안',\n '부여',\n '사천',\n '산청',\n '삼척',\n '상주',\n '서귀포',\n '서산',\n '서천',\n '성남 분당',\n '성남 수정',\n '성남 중원',\n '성주',\n '세종',\n '속초',\n '수원 권선',\n '수원 영통',\n '수원 장안',\n '수원 팔달',\n '순창',\n '순천',\n '시흥',\n '신안',\n '아산',\n '안동',\n '안산 단원',\n '안산 상록',\n '안성',\n '안양 동안',\n '안양 만안',\n '양구',\n '양산',\n '양양',\n '양주',\n '양평',\n '여수',\n '여주',\n '연천',\n '영광',\n '영덕',\n '영동',\n '영암',\n '영양',\n '영월',\n '영주',\n '영천',\n '예산',\n '예천',\n '오산',\n '옥천',\n '완도',\n '완주',\n '용인 기흥',\n '용인 수지',\n '용인 처인',\n '울릉',\n '울산 남구',\n '울산 동구',\n '울산 북구',\n '울산 울주',\n '울진',\n '원주',\n '음성',\n '의령',\n '의성',\n '의왕',\n '의정부',\n '이천',\n '익산',\n '인제',\n '인천 강화',\n '인천 계양',\n '인천 남구',\n '인천 남동',\n '인천 동구',\n '인천 부평',\n '인천 서구',\n '인천 연수',\n '인천 옹진',\n '임실',\n '장성',\n '장수',\n '장흥',\n '전주 덕진',\n '전주 완산',\n '정선',\n '정읍',\n '제주',\n '제천',\n '증평',\n '진도',\n '진안',\n '진주',\n '진천',\n '창녕',\n '창원 성산',\n '창원 의창',\n '창원 진해',\n '천안 동남',\n '천안 서북',\n '철원',\n '청도',\n '청송',\n '청양',\n '청주 상당',\n '청주 서원',\n '청주 청원',\n '청주 흥덕',\n '춘천',\n '충주',\n '칠곡',\n '태백',\n '태안',\n '통영',\n '파주',\n '평창',\n '평택',\n '포천',\n '포항 남구',\n '포항 북구',\n '하남',\n '하동',\n '함안',\n '함양',\n '함평',\n '합천',\n '해남',\n '홍성',\n '홍천',\n '화성',\n '화순',\n '화천',\n '횡성'}"
     },
     "execution_count": 45,
     "metadata": {},
     "output_type": "execute_result"
    }
   ],
   "source": [
    "set(draw_korea['ID'].unique()) - set(election_result['ID'].unique())"
   ],
   "metadata": {
    "collapsed": false,
    "pycharm": {
     "name": "#%%\n"
    }
   }
  },
  {
   "cell_type": "code",
   "execution_count": 46,
   "outputs": [
    {
     "data": {
      "text/plain": "{'강남',\n '강동',\n '강북',\n '강서',\n '관악',\n '광주 강남',\n '광주 강동',\n '광주 강북',\n '광주 강서',\n '광주 관악',\n '광주 광진',\n '광주 구로',\n '광주 금천',\n '광주 노원',\n '광주 도봉',\n '광주 동대문',\n '광주 동작',\n '광주 마포',\n '광주 서대문',\n '광주 서초',\n '광주 성동',\n '광주 성북',\n '광주 송파',\n '광주 양천',\n '광주 영등포',\n '광주 용산',\n '광주 은평',\n '광주 종로',\n '광주 중구',\n '광주 중랑',\n '광진',\n '구로',\n '금천',\n '노원',\n '대구 강남',\n '대구 강동',\n '대구 강북',\n '대구 강서',\n '대구 관악',\n '대구 광진',\n '대구 구로',\n '대구 금천',\n '대구 노원',\n '대구 도봉',\n '대구 동대문',\n '대구 동작',\n '대구 마포',\n '대구 서대문',\n '대구 서초',\n '대구 성동',\n '대구 성북',\n '대구 송파',\n '대구 양천',\n '대구 영등포',\n '대구 용산',\n '대구 은평',\n '대구 종로',\n '대구 중랑',\n '대전 강남',\n '대전 강동',\n '대전 강북',\n '대전 강서',\n '대전 관악',\n '대전 광진',\n '대전 구로',\n '대전 금천',\n '대전 노원',\n '대전 도봉',\n '대전 동대문',\n '대전 동작',\n '대전 마포',\n '대전 서대문',\n '대전 서초',\n '대전 성동',\n '대전 성북',\n '대전 송파',\n '대전 양천',\n '대전 영등포',\n '대전 용산',\n '대전 은평',\n '대전 중랑',\n '도봉',\n '동대문',\n '동작',\n '마포',\n '부산 강남',\n '부산 강동',\n '부산 강북',\n '부산 관악',\n '부산 광진',\n '부산 구로',\n '부산 금천',\n '부산 노원',\n '부산 도봉',\n '부산 동대문',\n '부산 동작',\n '부산 마포',\n '부산 서대문',\n '부산 서초',\n '부산 성동',\n '부산 성북',\n '부산 송파',\n '부산 양천',\n '부산 영등포',\n '부산 용산',\n '부산 은평',\n '부산 종로',\n '부산 중랑',\n '서대문',\n '서초',\n '성동',\n '성북',\n '송파',\n '양천',\n '영등포',\n '용산',\n '울산 강남',\n '울산 강동',\n '울산 강북',\n '울산 강서',\n '울산 관악',\n '울산 광진',\n '울산 구로',\n '울산 금천',\n '울산 노원',\n '울산 도봉',\n '울산 동대문',\n '울산 동작',\n '울산 마포',\n '울산 서대문',\n '울산 서초',\n '울산 성동',\n '울산 성북',\n '울산 송파',\n '울산 양천',\n '울산 영등포',\n '울산 용산',\n '울산 은평',\n '울산 종로',\n '울산 중랑',\n '은평',\n '인천 강남',\n '인천 강동',\n '인천 강북',\n '인천 강서',\n '인천 관악',\n '인천 광진',\n '인천 구로',\n '인천 금천',\n '인천 도봉',\n '인천 동대문',\n '인천 동작',\n '인천 마포',\n '인천 서대문',\n '인천 서초',\n '인천 성동',\n '인천 성북',\n '인천 송파',\n '인천 양천',\n '인천 영등포',\n '인천 용산',\n '인천 은평',\n '인천 종로',\n '인천 중랑',\n '종로',\n '중구',\n '중랑'}"
     },
     "execution_count": 46,
     "metadata": {},
     "output_type": "execute_result"
    }
   ],
   "source": [
    "set(election_result['ID'].unique()) - set(draw_korea['ID'].unique())"
   ],
   "metadata": {
    "collapsed": false,
    "pycharm": {
     "name": "#%%\n"
    }
   }
  },
  {
   "cell_type": "code",
   "execution_count": 47,
   "outputs": [
    {
     "data": {
      "text/plain": "    광역시도   시군       pop      moon     hong      ahn     ID  rate_moon  \\\n0  서울특별시  종로구  102566.0   42512.0  22325.0  22313.0  서울 종로  41.448433   \n1  서울특별시   중구   82852.0   34062.0  17901.0  19372.0  서울 중구  41.111862   \n2  서울특별시  용산구  148157.0   58081.0  35230.0  32109.0  서울 용산  39.202333   \n3  서울특별시  성동구  203175.0   86686.0  40566.0  45674.0  서울 성동  42.665682   \n4  서울특별시  광진구  240030.0  105512.0  46368.0  52824.0  서울 광진  43.957839   \n\n   rate_hong   rate_ahn    y    x  \n0  21.766472  21.754773  4.0  6.0  \n1  21.605996  23.381451  5.0  6.0  \n2  23.778829  21.672280  6.0  6.0  \n3  19.966039  22.480128  5.0  7.0  \n4  19.317585  22.007249  6.0  7.0  ",
      "text/html": "<div>\n<style scoped>\n    .dataframe tbody tr th:only-of-type {\n        vertical-align: middle;\n    }\n\n    .dataframe tbody tr th {\n        vertical-align: top;\n    }\n\n    .dataframe thead th {\n        text-align: right;\n    }\n</style>\n<table border=\"1\" class=\"dataframe\">\n  <thead>\n    <tr style=\"text-align: right;\">\n      <th></th>\n      <th>광역시도</th>\n      <th>시군</th>\n      <th>pop</th>\n      <th>moon</th>\n      <th>hong</th>\n      <th>ahn</th>\n      <th>ID</th>\n      <th>rate_moon</th>\n      <th>rate_hong</th>\n      <th>rate_ahn</th>\n      <th>y</th>\n      <th>x</th>\n    </tr>\n  </thead>\n  <tbody>\n    <tr>\n      <th>0</th>\n      <td>서울특별시</td>\n      <td>종로구</td>\n      <td>102566.0</td>\n      <td>42512.0</td>\n      <td>22325.0</td>\n      <td>22313.0</td>\n      <td>서울 종로</td>\n      <td>41.448433</td>\n      <td>21.766472</td>\n      <td>21.754773</td>\n      <td>4.0</td>\n      <td>6.0</td>\n    </tr>\n    <tr>\n      <th>1</th>\n      <td>서울특별시</td>\n      <td>중구</td>\n      <td>82852.0</td>\n      <td>34062.0</td>\n      <td>17901.0</td>\n      <td>19372.0</td>\n      <td>서울 중구</td>\n      <td>41.111862</td>\n      <td>21.605996</td>\n      <td>23.381451</td>\n      <td>5.0</td>\n      <td>6.0</td>\n    </tr>\n    <tr>\n      <th>2</th>\n      <td>서울특별시</td>\n      <td>용산구</td>\n      <td>148157.0</td>\n      <td>58081.0</td>\n      <td>35230.0</td>\n      <td>32109.0</td>\n      <td>서울 용산</td>\n      <td>39.202333</td>\n      <td>23.778829</td>\n      <td>21.672280</td>\n      <td>6.0</td>\n      <td>6.0</td>\n    </tr>\n    <tr>\n      <th>3</th>\n      <td>서울특별시</td>\n      <td>성동구</td>\n      <td>203175.0</td>\n      <td>86686.0</td>\n      <td>40566.0</td>\n      <td>45674.0</td>\n      <td>서울 성동</td>\n      <td>42.665682</td>\n      <td>19.966039</td>\n      <td>22.480128</td>\n      <td>5.0</td>\n      <td>7.0</td>\n    </tr>\n    <tr>\n      <th>4</th>\n      <td>서울특별시</td>\n      <td>광진구</td>\n      <td>240030.0</td>\n      <td>105512.0</td>\n      <td>46368.0</td>\n      <td>52824.0</td>\n      <td>서울 광진</td>\n      <td>43.957839</td>\n      <td>19.317585</td>\n      <td>22.007249</td>\n      <td>6.0</td>\n      <td>7.0</td>\n    </tr>\n  </tbody>\n</table>\n</div>"
     },
     "execution_count": 47,
     "metadata": {},
     "output_type": "execute_result"
    }
   ],
   "source": [
    "final_elect_data = pd.merge(election_result, draw_korea, how='left', on=['ID'])\n",
    "final_elect_data.head()"
   ],
   "metadata": {
    "collapsed": false,
    "pycharm": {
     "name": "#%%\n"
    }
   }
  },
  {
   "cell_type": "code",
   "execution_count": 48,
   "outputs": [
    {
     "data": {
      "text/plain": "    광역시도   시군       pop      moon     hong      ahn     ID  rate_moon  \\\n0  서울특별시  종로구  102566.0   42512.0  22325.0  22313.0  서울 종로  41.448433   \n1  서울특별시   중구   82852.0   34062.0  17901.0  19372.0  서울 중구  41.111862   \n2  서울특별시  용산구  148157.0   58081.0  35230.0  32109.0  서울 용산  39.202333   \n3  서울특별시  성동구  203175.0   86686.0  40566.0  45674.0  서울 성동  42.665682   \n4  서울특별시  광진구  240030.0  105512.0  46368.0  52824.0  서울 광진  43.957839   \n\n   rate_hong   rate_ahn    y    x  moon_vs_hong  moon_vs_ahn  ahn_vs_hong  \n0  21.766472  21.754773  4.0  6.0     19.681961    19.693661    -0.011700  \n1  21.605996  23.381451  5.0  6.0     19.505866    17.730411     1.775455  \n2  23.778829  21.672280  6.0  6.0     15.423503    17.530053    -2.106549  \n3  19.966039  22.480128  5.0  7.0     22.699643    20.185554     2.514089  \n4  19.317585  22.007249  6.0  7.0     24.640253    21.950590     2.689664  ",
      "text/html": "<div>\n<style scoped>\n    .dataframe tbody tr th:only-of-type {\n        vertical-align: middle;\n    }\n\n    .dataframe tbody tr th {\n        vertical-align: top;\n    }\n\n    .dataframe thead th {\n        text-align: right;\n    }\n</style>\n<table border=\"1\" class=\"dataframe\">\n  <thead>\n    <tr style=\"text-align: right;\">\n      <th></th>\n      <th>광역시도</th>\n      <th>시군</th>\n      <th>pop</th>\n      <th>moon</th>\n      <th>hong</th>\n      <th>ahn</th>\n      <th>ID</th>\n      <th>rate_moon</th>\n      <th>rate_hong</th>\n      <th>rate_ahn</th>\n      <th>y</th>\n      <th>x</th>\n      <th>moon_vs_hong</th>\n      <th>moon_vs_ahn</th>\n      <th>ahn_vs_hong</th>\n    </tr>\n  </thead>\n  <tbody>\n    <tr>\n      <th>0</th>\n      <td>서울특별시</td>\n      <td>종로구</td>\n      <td>102566.0</td>\n      <td>42512.0</td>\n      <td>22325.0</td>\n      <td>22313.0</td>\n      <td>서울 종로</td>\n      <td>41.448433</td>\n      <td>21.766472</td>\n      <td>21.754773</td>\n      <td>4.0</td>\n      <td>6.0</td>\n      <td>19.681961</td>\n      <td>19.693661</td>\n      <td>-0.011700</td>\n    </tr>\n    <tr>\n      <th>1</th>\n      <td>서울특별시</td>\n      <td>중구</td>\n      <td>82852.0</td>\n      <td>34062.0</td>\n      <td>17901.0</td>\n      <td>19372.0</td>\n      <td>서울 중구</td>\n      <td>41.111862</td>\n      <td>21.605996</td>\n      <td>23.381451</td>\n      <td>5.0</td>\n      <td>6.0</td>\n      <td>19.505866</td>\n      <td>17.730411</td>\n      <td>1.775455</td>\n    </tr>\n    <tr>\n      <th>2</th>\n      <td>서울특별시</td>\n      <td>용산구</td>\n      <td>148157.0</td>\n      <td>58081.0</td>\n      <td>35230.0</td>\n      <td>32109.0</td>\n      <td>서울 용산</td>\n      <td>39.202333</td>\n      <td>23.778829</td>\n      <td>21.672280</td>\n      <td>6.0</td>\n      <td>6.0</td>\n      <td>15.423503</td>\n      <td>17.530053</td>\n      <td>-2.106549</td>\n    </tr>\n    <tr>\n      <th>3</th>\n      <td>서울특별시</td>\n      <td>성동구</td>\n      <td>203175.0</td>\n      <td>86686.0</td>\n      <td>40566.0</td>\n      <td>45674.0</td>\n      <td>서울 성동</td>\n      <td>42.665682</td>\n      <td>19.966039</td>\n      <td>22.480128</td>\n      <td>5.0</td>\n      <td>7.0</td>\n      <td>22.699643</td>\n      <td>20.185554</td>\n      <td>2.514089</td>\n    </tr>\n    <tr>\n      <th>4</th>\n      <td>서울특별시</td>\n      <td>광진구</td>\n      <td>240030.0</td>\n      <td>105512.0</td>\n      <td>46368.0</td>\n      <td>52824.0</td>\n      <td>서울 광진</td>\n      <td>43.957839</td>\n      <td>19.317585</td>\n      <td>22.007249</td>\n      <td>6.0</td>\n      <td>7.0</td>\n      <td>24.640253</td>\n      <td>21.950590</td>\n      <td>2.689664</td>\n    </tr>\n  </tbody>\n</table>\n</div>"
     },
     "execution_count": 48,
     "metadata": {},
     "output_type": "execute_result"
    }
   ],
   "source": [
    "final_elect_data['moon_vs_hong'] = final_elect_data['rate_moon'] - \\\n",
    "                                                                final_elect_data['rate_hong']\n",
    "final_elect_data['moon_vs_ahn'] = final_elect_data['rate_moon'] - \\\n",
    "                                                                final_elect_data['rate_ahn']\n",
    "final_elect_data['ahn_vs_hong'] = final_elect_data['rate_ahn'] - \\\n",
    "                                                                final_elect_data['rate_hong']\n",
    "final_elect_data.head()"
   ],
   "metadata": {
    "collapsed": false,
    "pycharm": {
     "name": "#%%\n"
    }
   }
  },
  {
   "cell_type": "code",
   "execution_count": 49,
   "outputs": [
    {
     "data": {
      "text/plain": "        광역시도   시군       pop      moon     hong      ahn     ID  rate_moon  \\\n70     대구광역시  관악구  351240.0  159854.0  59914.0  79495.0  대구 관악  45.511331   \n20     서울특별시  관악구  351240.0  159854.0  59914.0  79495.0  서울 관악  45.511331   \n244      강원도  관악구  351240.0  159854.0  59914.0  79495.0     관악  45.511331   \n369     경상북도  관악구  351240.0  159854.0  59914.0  79495.0     관악  45.511331   \n144    대전광역시  관악구  351240.0  159854.0  59914.0  79495.0  대전 관악  45.511331   \n194  세종특별자치시  관악구  351240.0  159854.0  59914.0  79495.0     관악  45.511331   \n45     부산광역시  관악구  351240.0  159854.0  59914.0  79495.0  부산 관악  45.511331   \n119    광주광역시  관악구  351240.0  159854.0  59914.0  79495.0  광주 관악  45.511331   \n219      경기도  관악구  351240.0  159854.0  59914.0  79495.0     관악  45.511331   \n269     충청북도  관악구  351240.0  159854.0  59914.0  79495.0     관악  45.511331   \n\n     rate_hong   rate_ahn    y    x  moon_vs_hong  moon_vs_ahn  ahn_vs_hong  \n70   17.057852  22.632673  NaN  NaN     28.453479    22.878658     5.574821  \n20   17.057852  22.632673  7.0  5.0     28.453479    22.878658     5.574821  \n244  17.057852  22.632673  NaN  NaN     28.453479    22.878658     5.574821  \n369  17.057852  22.632673  NaN  NaN     28.453479    22.878658     5.574821  \n144  17.057852  22.632673  NaN  NaN     28.453479    22.878658     5.574821  \n194  17.057852  22.632673  NaN  NaN     28.453479    22.878658     5.574821  \n45   17.057852  22.632673  NaN  NaN     28.453479    22.878658     5.574821  \n119  17.057852  22.632673  NaN  NaN     28.453479    22.878658     5.574821  \n219  17.057852  22.632673  NaN  NaN     28.453479    22.878658     5.574821  \n269  17.057852  22.632673  NaN  NaN     28.453479    22.878658     5.574821  ",
      "text/html": "<div>\n<style scoped>\n    .dataframe tbody tr th:only-of-type {\n        vertical-align: middle;\n    }\n\n    .dataframe tbody tr th {\n        vertical-align: top;\n    }\n\n    .dataframe thead th {\n        text-align: right;\n    }\n</style>\n<table border=\"1\" class=\"dataframe\">\n  <thead>\n    <tr style=\"text-align: right;\">\n      <th></th>\n      <th>광역시도</th>\n      <th>시군</th>\n      <th>pop</th>\n      <th>moon</th>\n      <th>hong</th>\n      <th>ahn</th>\n      <th>ID</th>\n      <th>rate_moon</th>\n      <th>rate_hong</th>\n      <th>rate_ahn</th>\n      <th>y</th>\n      <th>x</th>\n      <th>moon_vs_hong</th>\n      <th>moon_vs_ahn</th>\n      <th>ahn_vs_hong</th>\n    </tr>\n  </thead>\n  <tbody>\n    <tr>\n      <th>70</th>\n      <td>대구광역시</td>\n      <td>관악구</td>\n      <td>351240.0</td>\n      <td>159854.0</td>\n      <td>59914.0</td>\n      <td>79495.0</td>\n      <td>대구 관악</td>\n      <td>45.511331</td>\n      <td>17.057852</td>\n      <td>22.632673</td>\n      <td>NaN</td>\n      <td>NaN</td>\n      <td>28.453479</td>\n      <td>22.878658</td>\n      <td>5.574821</td>\n    </tr>\n    <tr>\n      <th>20</th>\n      <td>서울특별시</td>\n      <td>관악구</td>\n      <td>351240.0</td>\n      <td>159854.0</td>\n      <td>59914.0</td>\n      <td>79495.0</td>\n      <td>서울 관악</td>\n      <td>45.511331</td>\n      <td>17.057852</td>\n      <td>22.632673</td>\n      <td>7.0</td>\n      <td>5.0</td>\n      <td>28.453479</td>\n      <td>22.878658</td>\n      <td>5.574821</td>\n    </tr>\n    <tr>\n      <th>244</th>\n      <td>강원도</td>\n      <td>관악구</td>\n      <td>351240.0</td>\n      <td>159854.0</td>\n      <td>59914.0</td>\n      <td>79495.0</td>\n      <td>관악</td>\n      <td>45.511331</td>\n      <td>17.057852</td>\n      <td>22.632673</td>\n      <td>NaN</td>\n      <td>NaN</td>\n      <td>28.453479</td>\n      <td>22.878658</td>\n      <td>5.574821</td>\n    </tr>\n    <tr>\n      <th>369</th>\n      <td>경상북도</td>\n      <td>관악구</td>\n      <td>351240.0</td>\n      <td>159854.0</td>\n      <td>59914.0</td>\n      <td>79495.0</td>\n      <td>관악</td>\n      <td>45.511331</td>\n      <td>17.057852</td>\n      <td>22.632673</td>\n      <td>NaN</td>\n      <td>NaN</td>\n      <td>28.453479</td>\n      <td>22.878658</td>\n      <td>5.574821</td>\n    </tr>\n    <tr>\n      <th>144</th>\n      <td>대전광역시</td>\n      <td>관악구</td>\n      <td>351240.0</td>\n      <td>159854.0</td>\n      <td>59914.0</td>\n      <td>79495.0</td>\n      <td>대전 관악</td>\n      <td>45.511331</td>\n      <td>17.057852</td>\n      <td>22.632673</td>\n      <td>NaN</td>\n      <td>NaN</td>\n      <td>28.453479</td>\n      <td>22.878658</td>\n      <td>5.574821</td>\n    </tr>\n    <tr>\n      <th>194</th>\n      <td>세종특별자치시</td>\n      <td>관악구</td>\n      <td>351240.0</td>\n      <td>159854.0</td>\n      <td>59914.0</td>\n      <td>79495.0</td>\n      <td>관악</td>\n      <td>45.511331</td>\n      <td>17.057852</td>\n      <td>22.632673</td>\n      <td>NaN</td>\n      <td>NaN</td>\n      <td>28.453479</td>\n      <td>22.878658</td>\n      <td>5.574821</td>\n    </tr>\n    <tr>\n      <th>45</th>\n      <td>부산광역시</td>\n      <td>관악구</td>\n      <td>351240.0</td>\n      <td>159854.0</td>\n      <td>59914.0</td>\n      <td>79495.0</td>\n      <td>부산 관악</td>\n      <td>45.511331</td>\n      <td>17.057852</td>\n      <td>22.632673</td>\n      <td>NaN</td>\n      <td>NaN</td>\n      <td>28.453479</td>\n      <td>22.878658</td>\n      <td>5.574821</td>\n    </tr>\n    <tr>\n      <th>119</th>\n      <td>광주광역시</td>\n      <td>관악구</td>\n      <td>351240.0</td>\n      <td>159854.0</td>\n      <td>59914.0</td>\n      <td>79495.0</td>\n      <td>광주 관악</td>\n      <td>45.511331</td>\n      <td>17.057852</td>\n      <td>22.632673</td>\n      <td>NaN</td>\n      <td>NaN</td>\n      <td>28.453479</td>\n      <td>22.878658</td>\n      <td>5.574821</td>\n    </tr>\n    <tr>\n      <th>219</th>\n      <td>경기도</td>\n      <td>관악구</td>\n      <td>351240.0</td>\n      <td>159854.0</td>\n      <td>59914.0</td>\n      <td>79495.0</td>\n      <td>관악</td>\n      <td>45.511331</td>\n      <td>17.057852</td>\n      <td>22.632673</td>\n      <td>NaN</td>\n      <td>NaN</td>\n      <td>28.453479</td>\n      <td>22.878658</td>\n      <td>5.574821</td>\n    </tr>\n    <tr>\n      <th>269</th>\n      <td>충청북도</td>\n      <td>관악구</td>\n      <td>351240.0</td>\n      <td>159854.0</td>\n      <td>59914.0</td>\n      <td>79495.0</td>\n      <td>관악</td>\n      <td>45.511331</td>\n      <td>17.057852</td>\n      <td>22.632673</td>\n      <td>NaN</td>\n      <td>NaN</td>\n      <td>28.453479</td>\n      <td>22.878658</td>\n      <td>5.574821</td>\n    </tr>\n  </tbody>\n</table>\n</div>"
     },
     "execution_count": 49,
     "metadata": {},
     "output_type": "execute_result"
    }
   ],
   "source": [
    "final_elect_data.sort_values(['moon_vs_hong'], ascending=[False]).head(10)"
   ],
   "metadata": {
    "collapsed": false,
    "pycharm": {
     "name": "#%%\n"
    }
   }
  },
  {
   "cell_type": "code",
   "execution_count": 50,
   "outputs": [
    {
     "data": {
      "text/plain": "      광역시도   시군       pop      moon     hong      ahn     ID  rate_moon  \\\n72   대구광역시  강남구  365642.0  128927.0  97639.0  80201.0  대구 강남  35.260446   \n22   서울특별시  강남구  365642.0  128927.0  97639.0  80201.0  서울 강남  35.260446   \n171  울산광역시  강남구  365642.0  128927.0  97639.0  80201.0  울산 강남  35.260446   \n321   전라북도  강남구  365642.0  128927.0  97639.0  80201.0     강남  35.260446   \n371   경상북도  강남구  365642.0  128927.0  97639.0  80201.0     강남  35.260446   \n296   충청남도  강남구  365642.0  128927.0  97639.0  80201.0     강남  35.260446   \n96   인천광역시  강남구  365642.0  128927.0  97639.0  80201.0  인천 강남  35.260446   \n47   부산광역시  강남구  365642.0  128927.0  97639.0  80201.0  부산 강남  35.260446   \n396   경상남도  강남구  365642.0  128927.0  97639.0  80201.0     강남  35.260446   \n146  대전광역시  강남구  365642.0  128927.0  97639.0  80201.0  대전 강남  35.260446   \n\n     rate_hong   rate_ahn    y    x  moon_vs_hong  moon_vs_ahn  ahn_vs_hong  \n72   26.703442  21.934296  NaN  NaN      8.557004     13.32615    -4.769146  \n22   26.703442  21.934296  8.0  6.0      8.557004     13.32615    -4.769146  \n171  26.703442  21.934296  NaN  NaN      8.557004     13.32615    -4.769146  \n321  26.703442  21.934296  NaN  NaN      8.557004     13.32615    -4.769146  \n371  26.703442  21.934296  NaN  NaN      8.557004     13.32615    -4.769146  \n296  26.703442  21.934296  NaN  NaN      8.557004     13.32615    -4.769146  \n96   26.703442  21.934296  NaN  NaN      8.557004     13.32615    -4.769146  \n47   26.703442  21.934296  NaN  NaN      8.557004     13.32615    -4.769146  \n396  26.703442  21.934296  NaN  NaN      8.557004     13.32615    -4.769146  \n146  26.703442  21.934296  NaN  NaN      8.557004     13.32615    -4.769146  ",
      "text/html": "<div>\n<style scoped>\n    .dataframe tbody tr th:only-of-type {\n        vertical-align: middle;\n    }\n\n    .dataframe tbody tr th {\n        vertical-align: top;\n    }\n\n    .dataframe thead th {\n        text-align: right;\n    }\n</style>\n<table border=\"1\" class=\"dataframe\">\n  <thead>\n    <tr style=\"text-align: right;\">\n      <th></th>\n      <th>광역시도</th>\n      <th>시군</th>\n      <th>pop</th>\n      <th>moon</th>\n      <th>hong</th>\n      <th>ahn</th>\n      <th>ID</th>\n      <th>rate_moon</th>\n      <th>rate_hong</th>\n      <th>rate_ahn</th>\n      <th>y</th>\n      <th>x</th>\n      <th>moon_vs_hong</th>\n      <th>moon_vs_ahn</th>\n      <th>ahn_vs_hong</th>\n    </tr>\n  </thead>\n  <tbody>\n    <tr>\n      <th>72</th>\n      <td>대구광역시</td>\n      <td>강남구</td>\n      <td>365642.0</td>\n      <td>128927.0</td>\n      <td>97639.0</td>\n      <td>80201.0</td>\n      <td>대구 강남</td>\n      <td>35.260446</td>\n      <td>26.703442</td>\n      <td>21.934296</td>\n      <td>NaN</td>\n      <td>NaN</td>\n      <td>8.557004</td>\n      <td>13.32615</td>\n      <td>-4.769146</td>\n    </tr>\n    <tr>\n      <th>22</th>\n      <td>서울특별시</td>\n      <td>강남구</td>\n      <td>365642.0</td>\n      <td>128927.0</td>\n      <td>97639.0</td>\n      <td>80201.0</td>\n      <td>서울 강남</td>\n      <td>35.260446</td>\n      <td>26.703442</td>\n      <td>21.934296</td>\n      <td>8.0</td>\n      <td>6.0</td>\n      <td>8.557004</td>\n      <td>13.32615</td>\n      <td>-4.769146</td>\n    </tr>\n    <tr>\n      <th>171</th>\n      <td>울산광역시</td>\n      <td>강남구</td>\n      <td>365642.0</td>\n      <td>128927.0</td>\n      <td>97639.0</td>\n      <td>80201.0</td>\n      <td>울산 강남</td>\n      <td>35.260446</td>\n      <td>26.703442</td>\n      <td>21.934296</td>\n      <td>NaN</td>\n      <td>NaN</td>\n      <td>8.557004</td>\n      <td>13.32615</td>\n      <td>-4.769146</td>\n    </tr>\n    <tr>\n      <th>321</th>\n      <td>전라북도</td>\n      <td>강남구</td>\n      <td>365642.0</td>\n      <td>128927.0</td>\n      <td>97639.0</td>\n      <td>80201.0</td>\n      <td>강남</td>\n      <td>35.260446</td>\n      <td>26.703442</td>\n      <td>21.934296</td>\n      <td>NaN</td>\n      <td>NaN</td>\n      <td>8.557004</td>\n      <td>13.32615</td>\n      <td>-4.769146</td>\n    </tr>\n    <tr>\n      <th>371</th>\n      <td>경상북도</td>\n      <td>강남구</td>\n      <td>365642.0</td>\n      <td>128927.0</td>\n      <td>97639.0</td>\n      <td>80201.0</td>\n      <td>강남</td>\n      <td>35.260446</td>\n      <td>26.703442</td>\n      <td>21.934296</td>\n      <td>NaN</td>\n      <td>NaN</td>\n      <td>8.557004</td>\n      <td>13.32615</td>\n      <td>-4.769146</td>\n    </tr>\n    <tr>\n      <th>296</th>\n      <td>충청남도</td>\n      <td>강남구</td>\n      <td>365642.0</td>\n      <td>128927.0</td>\n      <td>97639.0</td>\n      <td>80201.0</td>\n      <td>강남</td>\n      <td>35.260446</td>\n      <td>26.703442</td>\n      <td>21.934296</td>\n      <td>NaN</td>\n      <td>NaN</td>\n      <td>8.557004</td>\n      <td>13.32615</td>\n      <td>-4.769146</td>\n    </tr>\n    <tr>\n      <th>96</th>\n      <td>인천광역시</td>\n      <td>강남구</td>\n      <td>365642.0</td>\n      <td>128927.0</td>\n      <td>97639.0</td>\n      <td>80201.0</td>\n      <td>인천 강남</td>\n      <td>35.260446</td>\n      <td>26.703442</td>\n      <td>21.934296</td>\n      <td>NaN</td>\n      <td>NaN</td>\n      <td>8.557004</td>\n      <td>13.32615</td>\n      <td>-4.769146</td>\n    </tr>\n    <tr>\n      <th>47</th>\n      <td>부산광역시</td>\n      <td>강남구</td>\n      <td>365642.0</td>\n      <td>128927.0</td>\n      <td>97639.0</td>\n      <td>80201.0</td>\n      <td>부산 강남</td>\n      <td>35.260446</td>\n      <td>26.703442</td>\n      <td>21.934296</td>\n      <td>NaN</td>\n      <td>NaN</td>\n      <td>8.557004</td>\n      <td>13.32615</td>\n      <td>-4.769146</td>\n    </tr>\n    <tr>\n      <th>396</th>\n      <td>경상남도</td>\n      <td>강남구</td>\n      <td>365642.0</td>\n      <td>128927.0</td>\n      <td>97639.0</td>\n      <td>80201.0</td>\n      <td>강남</td>\n      <td>35.260446</td>\n      <td>26.703442</td>\n      <td>21.934296</td>\n      <td>NaN</td>\n      <td>NaN</td>\n      <td>8.557004</td>\n      <td>13.32615</td>\n      <td>-4.769146</td>\n    </tr>\n    <tr>\n      <th>146</th>\n      <td>대전광역시</td>\n      <td>강남구</td>\n      <td>365642.0</td>\n      <td>128927.0</td>\n      <td>97639.0</td>\n      <td>80201.0</td>\n      <td>대전 강남</td>\n      <td>35.260446</td>\n      <td>26.703442</td>\n      <td>21.934296</td>\n      <td>NaN</td>\n      <td>NaN</td>\n      <td>8.557004</td>\n      <td>13.32615</td>\n      <td>-4.769146</td>\n    </tr>\n  </tbody>\n</table>\n</div>"
     },
     "execution_count": 50,
     "metadata": {},
     "output_type": "execute_result"
    }
   ],
   "source": [
    "final_elect_data.sort_values(['moon_vs_hong'], ascending=[True]).head(10)"
   ],
   "metadata": {
    "collapsed": false,
    "pycharm": {
     "name": "#%%\n"
    }
   }
  },
  {
   "cell_type": "code",
   "execution_count": 51,
   "outputs": [],
   "source": [
    "BORDER_LINES = [\n",
    "    [(5, 1), (5,2), (7,2), (7,3), (11,3), (11,0)], # 인천\n",
    "    [(5,4), (5,5), (2,5), (2,7), (4,7), (4,9), (7,9),\n",
    "     (7,7), (9,7), (9,5), (10,5), (10,4), (5,4)], # 서울\n",
    "    [(1,7), (1,8), (3,8), (3,10), (10,10), (10,7),\n",
    "     (12,7), (12,6), (11,6), (11,5), (12, 5), (12,4),\n",
    "     (11,4), (11,3)], # 경기도\n",
    "    [(8,10), (8,11), (6,11), (6,12)], # 강원도\n",
    "    [(12,5), (13,5), (13,4), (14,4), (14,5), (15,5),\n",
    "     (15,4), (16,4), (16,2)], # 충청북도\n",
    "    [(16,4), (17,4), (17,5), (16,5), (16,6), (19,6),\n",
    "     (19,5), (20,5), (20,4), (21,4), (21,3), (19,3), (19,1)], # 전라북도\n",
    "    [(13,5), (13,6), (16,6)], # 대전시\n",
    "    [(13,5), (14,5)], #세종시\n",
    "    [(21,2), (21,3), (22,3), (22,4), (24,4), (24,2), (21,2)], #광주\n",
    "    [(20,5), (21,5), (21,6), (23,6)], #전라남도\n",
    "    [(10,8), (12,8), (12,9), (14,9), (14,8), (16,8), (16,6)], #충청북도\n",
    "    [(14,9), (14,11), (14,12), (13,12), (13,13)], #경상북도\n",
    "    [(15,8), (17,8), (17,10), (16,10), (16,11), (14,11)], #대구\n",
    "    [(17,9), (18,9), (18,8), (19,8), (19,9), (20,9), (20,10), (21,10)], #부산\n",
    "    [(16,11), (16,13)], #울산\n",
    "    [(27,5), (27,6), (25,6)],]"
   ],
   "metadata": {
    "collapsed": false,
    "pycharm": {
     "name": "#%%6-4. 19대 대선 결과 득표율 시각화하기¶\n"
    }
   }
  },
  {
   "cell_type": "code",
   "execution_count": 52,
   "outputs": [],
   "source": [
    "final_elect_data.to_csv('./data_saved/final_elect_data', encoding='utf-8', sep=',')\n"
   ],
   "metadata": {
    "collapsed": false,
    "pycharm": {
     "name": "#%%\n"
    }
   }
  },
  {
   "cell_type": "code",
   "execution_count": null,
   "outputs": [],
   "source": [],
   "metadata": {
    "collapsed": false,
    "pycharm": {
     "name": "#%%\n"
    }
   }
  }
 ],
 "metadata": {
  "kernelspec": {
   "display_name": "Python 3",
   "language": "python",
   "name": "python3"
  },
  "language_info": {
   "codemirror_mode": {
    "name": "ipython",
    "version": 2
   },
   "file_extension": ".py",
   "mimetype": "text/x-python",
   "name": "python",
   "nbconvert_exporter": "python",
   "pygments_lexer": "ipython2",
   "version": "2.7.6"
  }
 },
 "nbformat": 4,
 "nbformat_minor": 0
}